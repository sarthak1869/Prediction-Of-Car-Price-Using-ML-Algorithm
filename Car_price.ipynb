{
 "cells": [
  {
   "cell_type": "code",
   "execution_count": 1,
   "id": "c5be50e7-fef0-4f83-9e88-45da465546d5",
   "metadata": {},
   "outputs": [],
   "source": [
    "import pandas as pd\n",
    "import numpy as np\n",
    "import matplotlib.pyplot as plt"
   ]
  },
  {
   "cell_type": "code",
   "execution_count": 2,
   "id": "acc73e10-6bcf-4080-8565-bcad8ddc638f",
   "metadata": {},
   "outputs": [],
   "source": [
    "car=pd.read_csv('extended_data.csv')"
   ]
  },
  {
   "cell_type": "code",
   "execution_count": 3,
   "id": "8664f9b8-78eb-4c2f-9e9f-918282f2ae58",
   "metadata": {},
   "outputs": [
    {
     "data": {
      "text/html": [
       "<div>\n",
       "<style scoped>\n",
       "    .dataframe tbody tr th:only-of-type {\n",
       "        vertical-align: middle;\n",
       "    }\n",
       "\n",
       "    .dataframe tbody tr th {\n",
       "        vertical-align: top;\n",
       "    }\n",
       "\n",
       "    .dataframe thead th {\n",
       "        text-align: right;\n",
       "    }\n",
       "</style>\n",
       "<table border=\"1\" class=\"dataframe\">\n",
       "  <thead>\n",
       "    <tr style=\"text-align: right;\">\n",
       "      <th></th>\n",
       "      <th>model_year</th>\n",
       "      <th>brand</th>\n",
       "      <th>model</th>\n",
       "      <th>type</th>\n",
       "      <th>miles_per_gallon</th>\n",
       "      <th>premium_version</th>\n",
       "      <th>msrp</th>\n",
       "      <th>collection_car</th>\n",
       "    </tr>\n",
       "  </thead>\n",
       "  <tbody>\n",
       "    <tr>\n",
       "      <th>0</th>\n",
       "      <td>2016</td>\n",
       "      <td>Toyota</td>\n",
       "      <td>Land Cruiser Base</td>\n",
       "      <td>SUV</td>\n",
       "      <td>13.0</td>\n",
       "      <td>1</td>\n",
       "      <td>84900.0</td>\n",
       "      <td>0</td>\n",
       "    </tr>\n",
       "    <tr>\n",
       "      <th>1</th>\n",
       "      <td>2014</td>\n",
       "      <td>RAM</td>\n",
       "      <td>ProMaster 2500 Window Van High Roof</td>\n",
       "      <td>Van</td>\n",
       "      <td>15.0</td>\n",
       "      <td>0</td>\n",
       "      <td>35000.0</td>\n",
       "      <td>0</td>\n",
       "    </tr>\n",
       "    <tr>\n",
       "      <th>2</th>\n",
       "      <td>2002</td>\n",
       "      <td>Ford</td>\n",
       "      <td>Mustang GT</td>\n",
       "      <td>Coupe</td>\n",
       "      <td>16.0</td>\n",
       "      <td>0</td>\n",
       "      <td>26250.0</td>\n",
       "      <td>0</td>\n",
       "    </tr>\n",
       "    <tr>\n",
       "      <th>3</th>\n",
       "      <td>2012</td>\n",
       "      <td>BMW</td>\n",
       "      <td>428 Gran Coupe i xDrive</td>\n",
       "      <td>Sedan</td>\n",
       "      <td>27.0</td>\n",
       "      <td>1</td>\n",
       "      <td>45000.0</td>\n",
       "      <td>0</td>\n",
       "    </tr>\n",
       "    <tr>\n",
       "      <th>4</th>\n",
       "      <td>2008</td>\n",
       "      <td>Mercedes-Benz</td>\n",
       "      <td>SL-Class SL500 Roadster</td>\n",
       "      <td>Convertible</td>\n",
       "      <td>18.0</td>\n",
       "      <td>1</td>\n",
       "      <td>100000.0</td>\n",
       "      <td>1</td>\n",
       "    </tr>\n",
       "    <tr>\n",
       "      <th>...</th>\n",
       "      <td>...</td>\n",
       "      <td>...</td>\n",
       "      <td>...</td>\n",
       "      <td>...</td>\n",
       "      <td>...</td>\n",
       "      <td>...</td>\n",
       "      <td>...</td>\n",
       "      <td>...</td>\n",
       "    </tr>\n",
       "    <tr>\n",
       "      <th>28138</th>\n",
       "      <td>2017</td>\n",
       "      <td>Bentley</td>\n",
       "      <td>Huracan LP580-2S</td>\n",
       "      <td>Coupe</td>\n",
       "      <td>21.0</td>\n",
       "      <td>1</td>\n",
       "      <td>200000.0</td>\n",
       "      <td>1</td>\n",
       "    </tr>\n",
       "    <tr>\n",
       "      <th>28139</th>\n",
       "      <td>2001</td>\n",
       "      <td>Mazda</td>\n",
       "      <td>RX-8 Sport</td>\n",
       "      <td>Coupe</td>\n",
       "      <td>18.0</td>\n",
       "      <td>0</td>\n",
       "      <td>25000.0</td>\n",
       "      <td>0</td>\n",
       "    </tr>\n",
       "    <tr>\n",
       "      <th>28140</th>\n",
       "      <td>2018</td>\n",
       "      <td>Ford</td>\n",
       "      <td>Model X P100D</td>\n",
       "      <td>SUV</td>\n",
       "      <td>94.0</td>\n",
       "      <td>1</td>\n",
       "      <td>199000.0</td>\n",
       "      <td>1</td>\n",
       "    </tr>\n",
       "    <tr>\n",
       "      <th>28141</th>\n",
       "      <td>2022</td>\n",
       "      <td>Land</td>\n",
       "      <td>Rover Range Rover Velar P380 SE R-Dynamic</td>\n",
       "      <td>SUV</td>\n",
       "      <td>20.0</td>\n",
       "      <td>1</td>\n",
       "      <td>63700.0</td>\n",
       "      <td>0</td>\n",
       "    </tr>\n",
       "    <tr>\n",
       "      <th>28142</th>\n",
       "      <td>2020</td>\n",
       "      <td>Audi</td>\n",
       "      <td>A7 3.0T Prestige</td>\n",
       "      <td>Sedan</td>\n",
       "      <td>22.0</td>\n",
       "      <td>1</td>\n",
       "      <td>83500.0</td>\n",
       "      <td>0</td>\n",
       "    </tr>\n",
       "  </tbody>\n",
       "</table>\n",
       "<p>28143 rows × 8 columns</p>\n",
       "</div>"
      ],
      "text/plain": [
       "       model_year          brand                                      model  \\\n",
       "0            2016         Toyota                          Land Cruiser Base   \n",
       "1            2014            RAM        ProMaster 2500 Window Van High Roof   \n",
       "2            2002           Ford                                 Mustang GT   \n",
       "3            2012            BMW                    428 Gran Coupe i xDrive   \n",
       "4            2008  Mercedes-Benz                    SL-Class SL500 Roadster   \n",
       "...           ...            ...                                        ...   \n",
       "28138        2017        Bentley                           Huracan LP580-2S   \n",
       "28139        2001          Mazda                                 RX-8 Sport   \n",
       "28140        2018           Ford                              Model X P100D   \n",
       "28141        2022           Land  Rover Range Rover Velar P380 SE R-Dynamic   \n",
       "28142        2020           Audi                           A7 3.0T Prestige   \n",
       "\n",
       "              type  miles_per_gallon  premium_version      msrp  \\\n",
       "0              SUV              13.0                1   84900.0   \n",
       "1              Van              15.0                0   35000.0   \n",
       "2            Coupe              16.0                0   26250.0   \n",
       "3            Sedan              27.0                1   45000.0   \n",
       "4      Convertible              18.0                1  100000.0   \n",
       "...            ...               ...              ...       ...   \n",
       "28138        Coupe              21.0                1  200000.0   \n",
       "28139        Coupe              18.0                0   25000.0   \n",
       "28140          SUV              94.0                1  199000.0   \n",
       "28141          SUV              20.0                1   63700.0   \n",
       "28142        Sedan              22.0                1   83500.0   \n",
       "\n",
       "       collection_car  \n",
       "0                   0  \n",
       "1                   0  \n",
       "2                   0  \n",
       "3                   0  \n",
       "4                   1  \n",
       "...               ...  \n",
       "28138               1  \n",
       "28139               0  \n",
       "28140               1  \n",
       "28141               0  \n",
       "28142               0  \n",
       "\n",
       "[28143 rows x 8 columns]"
      ]
     },
     "execution_count": 3,
     "metadata": {},
     "output_type": "execute_result"
    }
   ],
   "source": [
    "car"
   ]
  },
  {
   "cell_type": "code",
   "execution_count": 4,
   "id": "d68a4722-4f34-47ae-912c-64fa0a9bf662",
   "metadata": {},
   "outputs": [],
   "source": [
    "car.drop(columns=['model'],inplace=True)"
   ]
  },
  {
   "cell_type": "code",
   "execution_count": 5,
   "id": "4aeadb12-0419-479a-858f-81c1664fee16",
   "metadata": {},
   "outputs": [
    {
     "data": {
      "text/plain": [
       "model_year           0\n",
       "brand                0\n",
       "type                 0\n",
       "miles_per_gallon    17\n",
       "premium_version      0\n",
       "msrp                17\n",
       "collection_car       0\n",
       "dtype: int64"
      ]
     },
     "execution_count": 5,
     "metadata": {},
     "output_type": "execute_result"
    }
   ],
   "source": [
    "car.isnull().sum()"
   ]
  },
  {
   "cell_type": "code",
   "execution_count": 6,
   "id": "ae5f4fb1-ec3b-49ae-9cfb-5d7e38a37a4a",
   "metadata": {},
   "outputs": [
    {
     "data": {
      "text/html": [
       "<div>\n",
       "<style scoped>\n",
       "    .dataframe tbody tr th:only-of-type {\n",
       "        vertical-align: middle;\n",
       "    }\n",
       "\n",
       "    .dataframe tbody tr th {\n",
       "        vertical-align: top;\n",
       "    }\n",
       "\n",
       "    .dataframe thead th {\n",
       "        text-align: right;\n",
       "    }\n",
       "</style>\n",
       "<table border=\"1\" class=\"dataframe\">\n",
       "  <thead>\n",
       "    <tr style=\"text-align: right;\">\n",
       "      <th></th>\n",
       "      <th>model_year</th>\n",
       "      <th>brand</th>\n",
       "      <th>type</th>\n",
       "      <th>miles_per_gallon</th>\n",
       "      <th>premium_version</th>\n",
       "      <th>msrp</th>\n",
       "      <th>collection_car</th>\n",
       "    </tr>\n",
       "  </thead>\n",
       "  <tbody>\n",
       "    <tr>\n",
       "      <th>874</th>\n",
       "      <td>2020</td>\n",
       "      <td>Mercedes-Benz</td>\n",
       "      <td>SUV</td>\n",
       "      <td>13.0</td>\n",
       "      <td>1</td>\n",
       "      <td>157000.0</td>\n",
       "      <td>1</td>\n",
       "    </tr>\n",
       "    <tr>\n",
       "      <th>1521</th>\n",
       "      <td>2018</td>\n",
       "      <td>RAM</td>\n",
       "      <td>Pickup</td>\n",
       "      <td>12.0</td>\n",
       "      <td>0</td>\n",
       "      <td>35000.0</td>\n",
       "      <td>0</td>\n",
       "    </tr>\n",
       "    <tr>\n",
       "      <th>1871</th>\n",
       "      <td>2011</td>\n",
       "      <td>BMW</td>\n",
       "      <td>Sedan</td>\n",
       "      <td>20.0</td>\n",
       "      <td>0</td>\n",
       "      <td>35000.0</td>\n",
       "      <td>0</td>\n",
       "    </tr>\n",
       "    <tr>\n",
       "      <th>1884</th>\n",
       "      <td>2011</td>\n",
       "      <td>Mercedes-Benz</td>\n",
       "      <td>Van</td>\n",
       "      <td>20.0</td>\n",
       "      <td>0</td>\n",
       "      <td>35000.0</td>\n",
       "      <td>0</td>\n",
       "    </tr>\n",
       "    <tr>\n",
       "      <th>1965</th>\n",
       "      <td>2022</td>\n",
       "      <td>Mercedes-Benz</td>\n",
       "      <td>SUV</td>\n",
       "      <td>13.0</td>\n",
       "      <td>1</td>\n",
       "      <td>157900.0</td>\n",
       "      <td>1</td>\n",
       "    </tr>\n",
       "    <tr>\n",
       "      <th>...</th>\n",
       "      <td>...</td>\n",
       "      <td>...</td>\n",
       "      <td>...</td>\n",
       "      <td>...</td>\n",
       "      <td>...</td>\n",
       "      <td>...</td>\n",
       "      <td>...</td>\n",
       "    </tr>\n",
       "    <tr>\n",
       "      <th>28081</th>\n",
       "      <td>2020</td>\n",
       "      <td>Jeep</td>\n",
       "      <td>SUV</td>\n",
       "      <td>22.0</td>\n",
       "      <td>0</td>\n",
       "      <td>24000.0</td>\n",
       "      <td>0</td>\n",
       "    </tr>\n",
       "    <tr>\n",
       "      <th>28098</th>\n",
       "      <td>2000</td>\n",
       "      <td>Ford</td>\n",
       "      <td>SUV</td>\n",
       "      <td>15.0</td>\n",
       "      <td>0</td>\n",
       "      <td>35000.0</td>\n",
       "      <td>0</td>\n",
       "    </tr>\n",
       "    <tr>\n",
       "      <th>28099</th>\n",
       "      <td>2011</td>\n",
       "      <td>BMW</td>\n",
       "      <td>Sedan</td>\n",
       "      <td>20.0</td>\n",
       "      <td>1</td>\n",
       "      <td>100000.0</td>\n",
       "      <td>0</td>\n",
       "    </tr>\n",
       "    <tr>\n",
       "      <th>28102</th>\n",
       "      <td>2002</td>\n",
       "      <td>Chevrolet</td>\n",
       "      <td>Pickup</td>\n",
       "      <td>15.0</td>\n",
       "      <td>0</td>\n",
       "      <td>30000.0</td>\n",
       "      <td>0</td>\n",
       "    </tr>\n",
       "    <tr>\n",
       "      <th>28134</th>\n",
       "      <td>2016</td>\n",
       "      <td>Land</td>\n",
       "      <td>SUV</td>\n",
       "      <td>22.0</td>\n",
       "      <td>1</td>\n",
       "      <td>85000.0</td>\n",
       "      <td>0</td>\n",
       "    </tr>\n",
       "  </tbody>\n",
       "</table>\n",
       "<p>927 rows × 7 columns</p>\n",
       "</div>"
      ],
      "text/plain": [
       "       model_year          brand    type  miles_per_gallon  premium_version  \\\n",
       "874          2020  Mercedes-Benz     SUV              13.0                1   \n",
       "1521         2018            RAM  Pickup              12.0                0   \n",
       "1871         2011            BMW   Sedan              20.0                0   \n",
       "1884         2011  Mercedes-Benz     Van              20.0                0   \n",
       "1965         2022  Mercedes-Benz     SUV              13.0                1   \n",
       "...           ...            ...     ...               ...              ...   \n",
       "28081        2020           Jeep     SUV              22.0                0   \n",
       "28098        2000           Ford     SUV              15.0                0   \n",
       "28099        2011            BMW   Sedan              20.0                1   \n",
       "28102        2002      Chevrolet  Pickup              15.0                0   \n",
       "28134        2016           Land     SUV              22.0                1   \n",
       "\n",
       "           msrp  collection_car  \n",
       "874    157000.0               1  \n",
       "1521    35000.0               0  \n",
       "1871    35000.0               0  \n",
       "1884    35000.0               0  \n",
       "1965   157900.0               1  \n",
       "...         ...             ...  \n",
       "28081   24000.0               0  \n",
       "28098   35000.0               0  \n",
       "28099  100000.0               0  \n",
       "28102   30000.0               0  \n",
       "28134   85000.0               0  \n",
       "\n",
       "[927 rows x 7 columns]"
      ]
     },
     "execution_count": 6,
     "metadata": {},
     "output_type": "execute_result"
    }
   ],
   "source": [
    "car[car.duplicated()]"
   ]
  },
  {
   "cell_type": "code",
   "execution_count": 7,
   "id": "461e39f4-5844-4b02-98c5-59dcdb1fff1d",
   "metadata": {},
   "outputs": [
    {
     "name": "stderr",
     "output_type": "stream",
     "text": [
      "C:\\Users\\Sarthak\\AppData\\Local\\Temp\\ipykernel_36688\\245467579.py:1: FutureWarning: A value is trying to be set on a copy of a DataFrame or Series through chained assignment using an inplace method.\n",
      "The behavior will change in pandas 3.0. This inplace method will never work because the intermediate object on which we are setting values always behaves as a copy.\n",
      "\n",
      "For example, when doing 'df[col].method(value, inplace=True)', try using 'df.method({col: value}, inplace=True)' or df[col] = df[col].method(value) instead, to perform the operation inplace on the original object.\n",
      "\n",
      "\n",
      "  car['miles_per_gallon'].fillna(value=car['miles_per_gallon'].mean(),inplace=True)\n"
     ]
    }
   ],
   "source": [
    "car['miles_per_gallon'].fillna(value=car['miles_per_gallon'].mean(),inplace=True)"
   ]
  },
  {
   "cell_type": "code",
   "execution_count": 8,
   "id": "07c8dc3a-fe65-43b4-9424-6860754bde66",
   "metadata": {},
   "outputs": [
    {
     "name": "stderr",
     "output_type": "stream",
     "text": [
      "C:\\Users\\Sarthak\\AppData\\Local\\Temp\\ipykernel_36688\\1973983750.py:1: FutureWarning: A value is trying to be set on a copy of a DataFrame or Series through chained assignment using an inplace method.\n",
      "The behavior will change in pandas 3.0. This inplace method will never work because the intermediate object on which we are setting values always behaves as a copy.\n",
      "\n",
      "For example, when doing 'df[col].method(value, inplace=True)', try using 'df.method({col: value}, inplace=True)' or df[col] = df[col].method(value) instead, to perform the operation inplace on the original object.\n",
      "\n",
      "\n",
      "  car['msrp'].fillna(car['msrp'].mean(),inplace=True)\n"
     ]
    }
   ],
   "source": [
    "car['msrp'].fillna(car['msrp'].mean(),inplace=True)"
   ]
  },
  {
   "cell_type": "code",
   "execution_count": 9,
   "id": "f8fbe863-f04b-4249-be9a-0af78a56e223",
   "metadata": {},
   "outputs": [
    {
     "data": {
      "text/plain": [
       "(28143, 7)"
      ]
     },
     "execution_count": 9,
     "metadata": {},
     "output_type": "execute_result"
    }
   ],
   "source": [
    "car.shape"
   ]
  },
  {
   "cell_type": "code",
   "execution_count": 10,
   "id": "99f9502d-4008-4926-b8e2-fd998fff89ff",
   "metadata": {},
   "outputs": [
    {
     "data": {
      "text/plain": [
       "Index(['model_year', 'brand', 'type', 'miles_per_gallon', 'premium_version',\n",
       "       'msrp', 'collection_car'],\n",
       "      dtype='object')"
      ]
     },
     "execution_count": 10,
     "metadata": {},
     "output_type": "execute_result"
    }
   ],
   "source": [
    "car.columns"
   ]
  },
  {
   "cell_type": "code",
   "execution_count": 11,
   "id": "ab093c93-0957-4494-a6a3-02785e91e59b",
   "metadata": {},
   "outputs": [
    {
     "name": "stdout",
     "output_type": "stream",
     "text": [
      "<class 'pandas.core.frame.DataFrame'>\n",
      "RangeIndex: 28143 entries, 0 to 28142\n",
      "Data columns (total 7 columns):\n",
      " #   Column            Non-Null Count  Dtype  \n",
      "---  ------            --------------  -----  \n",
      " 0   model_year        28143 non-null  int64  \n",
      " 1   brand             28143 non-null  object \n",
      " 2   type              28143 non-null  object \n",
      " 3   miles_per_gallon  28143 non-null  float64\n",
      " 4   premium_version   28143 non-null  int64  \n",
      " 5   msrp              28143 non-null  float64\n",
      " 6   collection_car    28143 non-null  int64  \n",
      "dtypes: float64(2), int64(3), object(2)\n",
      "memory usage: 1.5+ MB\n"
     ]
    }
   ],
   "source": [
    "car.info()"
   ]
  },
  {
   "cell_type": "code",
   "execution_count": 12,
   "id": "9f983ee9-06b5-42ae-b644-9a931fc3964a",
   "metadata": {},
   "outputs": [
    {
     "data": {
      "text/plain": [
       "model_year            36\n",
       "brand                 57\n",
       "type                   9\n",
       "miles_per_gallon     122\n",
       "premium_version        2\n",
       "msrp                2951\n",
       "collection_car         2\n",
       "dtype: int64"
      ]
     },
     "execution_count": 12,
     "metadata": {},
     "output_type": "execute_result"
    }
   ],
   "source": [
    "car.nunique()"
   ]
  },
  {
   "cell_type": "code",
   "execution_count": 13,
   "id": "ed90ea56-ee50-4cf3-912b-77f4c5131da3",
   "metadata": {},
   "outputs": [],
   "source": [
    "car.drop('collection_car',axis=1,inplace=True)"
   ]
  },
  {
   "cell_type": "code",
   "execution_count": 14,
   "id": "fcd38469-dcb1-4f33-a4a5-f24c67721221",
   "metadata": {},
   "outputs": [
    {
     "data": {
      "text/plain": [
       "array(['SUV', 'Van', 'Coupe', 'Sedan', 'Convertible', 'Pickup', 'Minivan',\n",
       "       'Hatchback', 'Wagon'], dtype=object)"
      ]
     },
     "execution_count": 14,
     "metadata": {},
     "output_type": "execute_result"
    }
   ],
   "source": [
    "car['type'].unique()"
   ]
  },
  {
   "cell_type": "code",
   "execution_count": 15,
   "id": "94f7ad9b-b94f-4cd1-908a-7b9556de2fc8",
   "metadata": {},
   "outputs": [],
   "source": [
    "cat=[]\n",
    "num=[]\n",
    "for i in car.columns:\n",
    "    if car[i].nunique()<10:\n",
    "        cat.append(i)\n",
    "    else:\n",
    "        num.append(i)\n",
    "    "
   ]
  },
  {
   "cell_type": "code",
   "execution_count": 16,
   "id": "795ef439-e722-4f10-8e6a-6fc489c15235",
   "metadata": {},
   "outputs": [
    {
     "data": {
      "text/plain": [
       "['type', 'premium_version']"
      ]
     },
     "execution_count": 16,
     "metadata": {},
     "output_type": "execute_result"
    }
   ],
   "source": [
    "cat"
   ]
  },
  {
   "cell_type": "code",
   "execution_count": 17,
   "id": "2a515c2a-fbde-4801-b8da-7854c7156d9a",
   "metadata": {},
   "outputs": [
    {
     "data": {
      "text/plain": [
       "['model_year', 'brand', 'miles_per_gallon', 'msrp']"
      ]
     },
     "execution_count": 17,
     "metadata": {},
     "output_type": "execute_result"
    }
   ],
   "source": [
    "num"
   ]
  },
  {
   "cell_type": "code",
   "execution_count": 18,
   "id": "dec2c92b-e84e-4dac-9c26-07638e8845f4",
   "metadata": {},
   "outputs": [
    {
     "data": {
      "image/png": "[encoded data removed]",
      "text/plain": [
       "<Figure size 640x480 with 1 Axes>"
      ]
     },
     "metadata": {},
     "output_type": "display_data"
    },
    {
     "data": {
      "image/png": "[encoded data removed]",
      "text/plain": [
       "<Figure size 640x480 with 1 Axes>"
      ]
     },
     "metadata": {},
     "output_type": "display_data"
    }
   ],
   "source": [
    "for i in cat:\n",
    "    vc=car[i].value_counts()\n",
    "    plt.bar(vc.index,height=vc,color='c')\n",
    "    plt.xlabel(i)\n",
    "    plt.ylabel('Count')\n",
    "    plt.show()"
   ]
  },
  {
   "cell_type": "code",
   "execution_count": 19,
   "id": "ebc980df-4200-4e29-9e09-e3cf586dd0a1",
   "metadata": {},
   "outputs": [
    {
     "data": {
      "text/html": [
       "<div>\n",
       "<style scoped>\n",
       "    .dataframe tbody tr th:only-of-type {\n",
       "        vertical-align: middle;\n",
       "    }\n",
       "\n",
       "    .dataframe tbody tr th {\n",
       "        vertical-align: top;\n",
       "    }\n",
       "\n",
       "    .dataframe thead th {\n",
       "        text-align: right;\n",
       "    }\n",
       "</style>\n",
       "<table border=\"1\" class=\"dataframe\">\n",
       "  <thead>\n",
       "    <tr style=\"text-align: right;\">\n",
       "      <th></th>\n",
       "      <th>model_year</th>\n",
       "      <th>brand</th>\n",
       "      <th>type</th>\n",
       "      <th>miles_per_gallon</th>\n",
       "      <th>premium_version</th>\n",
       "      <th>msrp</th>\n",
       "    </tr>\n",
       "  </thead>\n",
       "  <tbody>\n",
       "    <tr>\n",
       "      <th>0</th>\n",
       "      <td>2016</td>\n",
       "      <td>Toyota</td>\n",
       "      <td>SUV</td>\n",
       "      <td>13.0</td>\n",
       "      <td>1</td>\n",
       "      <td>84900.0</td>\n",
       "    </tr>\n",
       "    <tr>\n",
       "      <th>1</th>\n",
       "      <td>2014</td>\n",
       "      <td>RAM</td>\n",
       "      <td>Van</td>\n",
       "      <td>15.0</td>\n",
       "      <td>0</td>\n",
       "      <td>35000.0</td>\n",
       "    </tr>\n",
       "    <tr>\n",
       "      <th>2</th>\n",
       "      <td>2002</td>\n",
       "      <td>Ford</td>\n",
       "      <td>Coupe</td>\n",
       "      <td>16.0</td>\n",
       "      <td>0</td>\n",
       "      <td>26250.0</td>\n",
       "    </tr>\n",
       "    <tr>\n",
       "      <th>3</th>\n",
       "      <td>2012</td>\n",
       "      <td>BMW</td>\n",
       "      <td>Sedan</td>\n",
       "      <td>27.0</td>\n",
       "      <td>1</td>\n",
       "      <td>45000.0</td>\n",
       "    </tr>\n",
       "    <tr>\n",
       "      <th>4</th>\n",
       "      <td>2008</td>\n",
       "      <td>Mercedes-Benz</td>\n",
       "      <td>Convertible</td>\n",
       "      <td>18.0</td>\n",
       "      <td>1</td>\n",
       "      <td>100000.0</td>\n",
       "    </tr>\n",
       "    <tr>\n",
       "      <th>...</th>\n",
       "      <td>...</td>\n",
       "      <td>...</td>\n",
       "      <td>...</td>\n",
       "      <td>...</td>\n",
       "      <td>...</td>\n",
       "      <td>...</td>\n",
       "    </tr>\n",
       "    <tr>\n",
       "      <th>28138</th>\n",
       "      <td>2017</td>\n",
       "      <td>Bentley</td>\n",
       "      <td>Coupe</td>\n",
       "      <td>21.0</td>\n",
       "      <td>1</td>\n",
       "      <td>200000.0</td>\n",
       "    </tr>\n",
       "    <tr>\n",
       "      <th>28139</th>\n",
       "      <td>2001</td>\n",
       "      <td>Mazda</td>\n",
       "      <td>Coupe</td>\n",
       "      <td>18.0</td>\n",
       "      <td>0</td>\n",
       "      <td>25000.0</td>\n",
       "    </tr>\n",
       "    <tr>\n",
       "      <th>28140</th>\n",
       "      <td>2018</td>\n",
       "      <td>Ford</td>\n",
       "      <td>SUV</td>\n",
       "      <td>94.0</td>\n",
       "      <td>1</td>\n",
       "      <td>199000.0</td>\n",
       "    </tr>\n",
       "    <tr>\n",
       "      <th>28141</th>\n",
       "      <td>2022</td>\n",
       "      <td>Land</td>\n",
       "      <td>SUV</td>\n",
       "      <td>20.0</td>\n",
       "      <td>1</td>\n",
       "      <td>63700.0</td>\n",
       "    </tr>\n",
       "    <tr>\n",
       "      <th>28142</th>\n",
       "      <td>2020</td>\n",
       "      <td>Audi</td>\n",
       "      <td>Sedan</td>\n",
       "      <td>22.0</td>\n",
       "      <td>1</td>\n",
       "      <td>83500.0</td>\n",
       "    </tr>\n",
       "  </tbody>\n",
       "</table>\n",
       "<p>28143 rows × 6 columns</p>\n",
       "</div>"
      ],
      "text/plain": [
       "       model_year          brand         type  miles_per_gallon  \\\n",
       "0            2016         Toyota          SUV              13.0   \n",
       "1            2014            RAM          Van              15.0   \n",
       "2            2002           Ford        Coupe              16.0   \n",
       "3            2012            BMW        Sedan              27.0   \n",
       "4            2008  Mercedes-Benz  Convertible              18.0   \n",
       "...           ...            ...          ...               ...   \n",
       "28138        2017        Bentley        Coupe              21.0   \n",
       "28139        2001          Mazda        Coupe              18.0   \n",
       "28140        2018           Ford          SUV              94.0   \n",
       "28141        2022           Land          SUV              20.0   \n",
       "28142        2020           Audi        Sedan              22.0   \n",
       "\n",
       "       premium_version      msrp  \n",
       "0                    1   84900.0  \n",
       "1                    0   35000.0  \n",
       "2                    0   26250.0  \n",
       "3                    1   45000.0  \n",
       "4                    1  100000.0  \n",
       "...                ...       ...  \n",
       "28138                1  200000.0  \n",
       "28139                0   25000.0  \n",
       "28140                1  199000.0  \n",
       "28141                1   63700.0  \n",
       "28142                1   83500.0  \n",
       "\n",
       "[28143 rows x 6 columns]"
      ]
     },
     "execution_count": 19,
     "metadata": {},
     "output_type": "execute_result"
    }
   ],
   "source": [
    "car"
   ]
  },
  {
   "cell_type": "code",
   "execution_count": null,
   "id": "b826fb6e-6185-4c09-bbc1-6c763e135158",
   "metadata": {},
   "outputs": [],
   "source": []
  },
  {
   "cell_type": "code",
   "execution_count": null,
   "id": "936f21d5-547e-44ab-ad45-74646ce2cc28",
   "metadata": {},
   "outputs": [],
   "source": []
  },
  {
   "cell_type": "code",
   "execution_count": null,
   "id": "e6eb5eef-15d1-4393-ae1c-684f5b193bf4",
   "metadata": {},
   "outputs": [],
   "source": []
  },
  {
   "cell_type": "code",
   "execution_count": null,
   "id": "e5a22029-3f30-4c48-9aa3-21674ffbe1f6",
   "metadata": {},
   "outputs": [],
   "source": []
  },
  {
   "cell_type": "code",
   "execution_count": 20,
   "id": "f7a8e6ba-36b1-4437-a72c-542e7eddfc97",
   "metadata": {},
   "outputs": [
    {
     "data": {
      "text/plain": [
       "array([[0., 0., 0., ..., 0., 0., 0.],\n",
       "       [0., 0., 0., ..., 0., 1., 0.],\n",
       "       [0., 1., 0., ..., 0., 0., 0.],\n",
       "       ...,\n",
       "       [0., 0., 0., ..., 0., 0., 0.],\n",
       "       [0., 0., 0., ..., 0., 0., 0.],\n",
       "       [0., 0., 0., ..., 1., 0., 0.]])"
      ]
     },
     "execution_count": 20,
     "metadata": {},
     "output_type": "execute_result"
    }
   ],
   "source": [
    "from sklearn.preprocessing import OneHotEncoder\n",
    "ohe = OneHotEncoder(sparse_output=False)\n",
    "types=ohe.fit_transform(car[[\"type\"]])\n",
    "types"
   ]
  },
  {
   "cell_type": "code",
   "execution_count": 21,
   "id": "2d01f245-941a-4852-81ce-c9c8ae3dba92",
   "metadata": {},
   "outputs": [
    {
     "data": {
      "text/plain": [
       "numpy.ndarray"
      ]
     },
     "execution_count": 21,
     "metadata": {},
     "output_type": "execute_result"
    }
   ],
   "source": [
    "type(types)"
   ]
  },
  {
   "cell_type": "code",
   "execution_count": 22,
   "id": "1388b7ad-8986-4399-83e2-f46c9d4ac758",
   "metadata": {},
   "outputs": [
    {
     "data": {
      "text/plain": [
       "[array(['Convertible', 'Coupe', 'Hatchback', 'Minivan', 'Pickup', 'SUV',\n",
       "        'Sedan', 'Van', 'Wagon'], dtype=object)]"
      ]
     },
     "execution_count": 22,
     "metadata": {},
     "output_type": "execute_result"
    }
   ],
   "source": [
    "ohe.categories_"
   ]
  },
  {
   "cell_type": "code",
   "execution_count": 23,
   "id": "c069e1c8-99bf-42c1-bf9f-8a1431e413ef",
   "metadata": {},
   "outputs": [],
   "source": [
    "type_df=pd.DataFrame(types,columns=ohe.categories_)"
   ]
  },
  {
   "cell_type": "code",
   "execution_count": 24,
   "id": "56f608e5-b42a-4a91-aec7-687567eae8dc",
   "metadata": {},
   "outputs": [],
   "source": [
    "car=pd.concat([car,type_df],axis=1)"
   ]
  },
  {
   "cell_type": "code",
   "execution_count": 25,
   "id": "05af60b9-184b-4a05-861c-7dc285ffca17",
   "metadata": {},
   "outputs": [
    {
     "data": {
      "text/plain": [
       "array([[0., 0., 0., ..., 0., 0., 0.],\n",
       "       [0., 0., 0., ..., 0., 0., 0.],\n",
       "       [0., 0., 0., ..., 0., 0., 0.],\n",
       "       ...,\n",
       "       [0., 0., 0., ..., 0., 0., 0.],\n",
       "       [0., 0., 0., ..., 0., 0., 0.],\n",
       "       [0., 0., 0., ..., 0., 0., 0.]])"
      ]
     },
     "execution_count": 25,
     "metadata": {},
     "output_type": "execute_result"
    }
   ],
   "source": [
    "from sklearn.preprocessing import OneHotEncoder\n",
    "ohe = OneHotEncoder(sparse_output=False)\n",
    "brands=ohe.fit_transform(car[[\"brand\"]])\n",
    "brands"
   ]
  },
  {
   "cell_type": "code",
   "execution_count": 26,
   "id": "31481919-c323-401a-a795-e188d929c7af",
   "metadata": {},
   "outputs": [],
   "source": [
    "brand_df=pd.DataFrame(brands,columns=ohe.categories_)"
   ]
  },
  {
   "cell_type": "code",
   "execution_count": 27,
   "id": "25eb0707-3d13-40f9-8e3d-8ae12b009ea2",
   "metadata": {},
   "outputs": [],
   "source": [
    "car=pd.concat([car,brand_df],axis=1)"
   ]
  },
  {
   "cell_type": "code",
   "execution_count": 28,
   "id": "0de2a9e2-c91f-4a7f-888a-0850fa91affd",
   "metadata": {},
   "outputs": [
    {
     "data": {
      "text/plain": [
       "0        False\n",
       "1        False\n",
       "2        False\n",
       "3        False\n",
       "4        False\n",
       "         ...  \n",
       "28138    False\n",
       "28139    False\n",
       "28140    False\n",
       "28141    False\n",
       "28142    False\n",
       "Name: miles_per_gallon, Length: 28143, dtype: bool"
      ]
     },
     "execution_count": 28,
     "metadata": {},
     "output_type": "execute_result"
    }
   ],
   "source": [
    "car['miles_per_gallon'].isnull()"
   ]
  },
  {
   "cell_type": "code",
   "execution_count": 29,
   "id": "980c32d9-51cb-47fa-a3c8-935b78fb4844",
   "metadata": {},
   "outputs": [
    {
     "data": {
      "text/html": [
       "<div>\n",
       "<style scoped>\n",
       "    .dataframe tbody tr th:only-of-type {\n",
       "        vertical-align: middle;\n",
       "    }\n",
       "\n",
       "    .dataframe tbody tr th {\n",
       "        vertical-align: top;\n",
       "    }\n",
       "\n",
       "    .dataframe thead th {\n",
       "        text-align: right;\n",
       "    }\n",
       "</style>\n",
       "<table border=\"1\" class=\"dataframe\">\n",
       "  <thead>\n",
       "    <tr style=\"text-align: right;\">\n",
       "      <th></th>\n",
       "      <th>model_year</th>\n",
       "      <th>brand</th>\n",
       "      <th>type</th>\n",
       "      <th>miles_per_gallon</th>\n",
       "      <th>premium_version</th>\n",
       "      <th>msrp</th>\n",
       "      <th>(Convertible,)</th>\n",
       "      <th>(Coupe,)</th>\n",
       "      <th>(Hatchback,)</th>\n",
       "      <th>(Minivan,)</th>\n",
       "      <th>...</th>\n",
       "      <th>(Saab,)</th>\n",
       "      <th>(Saturn,)</th>\n",
       "      <th>(Scion,)</th>\n",
       "      <th>(Subaru,)</th>\n",
       "      <th>(Suzuki,)</th>\n",
       "      <th>(Tesla,)</th>\n",
       "      <th>(Toyota,)</th>\n",
       "      <th>(Volkswagen,)</th>\n",
       "      <th>(Volvo,)</th>\n",
       "      <th>(smart,)</th>\n",
       "    </tr>\n",
       "  </thead>\n",
       "  <tbody>\n",
       "    <tr>\n",
       "      <th>0</th>\n",
       "      <td>2016</td>\n",
       "      <td>Toyota</td>\n",
       "      <td>SUV</td>\n",
       "      <td>13.0</td>\n",
       "      <td>1</td>\n",
       "      <td>84900.0</td>\n",
       "      <td>0.0</td>\n",
       "      <td>0.0</td>\n",
       "      <td>0.0</td>\n",
       "      <td>0.0</td>\n",
       "      <td>...</td>\n",
       "      <td>0.0</td>\n",
       "      <td>0.0</td>\n",
       "      <td>0.0</td>\n",
       "      <td>0.0</td>\n",
       "      <td>0.0</td>\n",
       "      <td>0.0</td>\n",
       "      <td>1.0</td>\n",
       "      <td>0.0</td>\n",
       "      <td>0.0</td>\n",
       "      <td>0.0</td>\n",
       "    </tr>\n",
       "    <tr>\n",
       "      <th>1</th>\n",
       "      <td>2014</td>\n",
       "      <td>RAM</td>\n",
       "      <td>Van</td>\n",
       "      <td>15.0</td>\n",
       "      <td>0</td>\n",
       "      <td>35000.0</td>\n",
       "      <td>0.0</td>\n",
       "      <td>0.0</td>\n",
       "      <td>0.0</td>\n",
       "      <td>0.0</td>\n",
       "      <td>...</td>\n",
       "      <td>0.0</td>\n",
       "      <td>0.0</td>\n",
       "      <td>0.0</td>\n",
       "      <td>0.0</td>\n",
       "      <td>0.0</td>\n",
       "      <td>0.0</td>\n",
       "      <td>0.0</td>\n",
       "      <td>0.0</td>\n",
       "      <td>0.0</td>\n",
       "      <td>0.0</td>\n",
       "    </tr>\n",
       "    <tr>\n",
       "      <th>2</th>\n",
       "      <td>2002</td>\n",
       "      <td>Ford</td>\n",
       "      <td>Coupe</td>\n",
       "      <td>16.0</td>\n",
       "      <td>0</td>\n",
       "      <td>26250.0</td>\n",
       "      <td>0.0</td>\n",
       "      <td>1.0</td>\n",
       "      <td>0.0</td>\n",
       "      <td>0.0</td>\n",
       "      <td>...</td>\n",
       "      <td>0.0</td>\n",
       "      <td>0.0</td>\n",
       "      <td>0.0</td>\n",
       "      <td>0.0</td>\n",
       "      <td>0.0</td>\n",
       "      <td>0.0</td>\n",
       "      <td>0.0</td>\n",
       "      <td>0.0</td>\n",
       "      <td>0.0</td>\n",
       "      <td>0.0</td>\n",
       "    </tr>\n",
       "    <tr>\n",
       "      <th>3</th>\n",
       "      <td>2012</td>\n",
       "      <td>BMW</td>\n",
       "      <td>Sedan</td>\n",
       "      <td>27.0</td>\n",
       "      <td>1</td>\n",
       "      <td>45000.0</td>\n",
       "      <td>0.0</td>\n",
       "      <td>0.0</td>\n",
       "      <td>0.0</td>\n",
       "      <td>0.0</td>\n",
       "      <td>...</td>\n",
       "      <td>0.0</td>\n",
       "      <td>0.0</td>\n",
       "      <td>0.0</td>\n",
       "      <td>0.0</td>\n",
       "      <td>0.0</td>\n",
       "      <td>0.0</td>\n",
       "      <td>0.0</td>\n",
       "      <td>0.0</td>\n",
       "      <td>0.0</td>\n",
       "      <td>0.0</td>\n",
       "    </tr>\n",
       "    <tr>\n",
       "      <th>4</th>\n",
       "      <td>2008</td>\n",
       "      <td>Mercedes-Benz</td>\n",
       "      <td>Convertible</td>\n",
       "      <td>18.0</td>\n",
       "      <td>1</td>\n",
       "      <td>100000.0</td>\n",
       "      <td>1.0</td>\n",
       "      <td>0.0</td>\n",
       "      <td>0.0</td>\n",
       "      <td>0.0</td>\n",
       "      <td>...</td>\n",
       "      <td>0.0</td>\n",
       "      <td>0.0</td>\n",
       "      <td>0.0</td>\n",
       "      <td>0.0</td>\n",
       "      <td>0.0</td>\n",
       "      <td>0.0</td>\n",
       "      <td>0.0</td>\n",
       "      <td>0.0</td>\n",
       "      <td>0.0</td>\n",
       "      <td>0.0</td>\n",
       "    </tr>\n",
       "    <tr>\n",
       "      <th>...</th>\n",
       "      <td>...</td>\n",
       "      <td>...</td>\n",
       "      <td>...</td>\n",
       "      <td>...</td>\n",
       "      <td>...</td>\n",
       "      <td>...</td>\n",
       "      <td>...</td>\n",
       "      <td>...</td>\n",
       "      <td>...</td>\n",
       "      <td>...</td>\n",
       "      <td>...</td>\n",
       "      <td>...</td>\n",
       "      <td>...</td>\n",
       "      <td>...</td>\n",
       "      <td>...</td>\n",
       "      <td>...</td>\n",
       "      <td>...</td>\n",
       "      <td>...</td>\n",
       "      <td>...</td>\n",
       "      <td>...</td>\n",
       "      <td>...</td>\n",
       "    </tr>\n",
       "    <tr>\n",
       "      <th>28138</th>\n",
       "      <td>2017</td>\n",
       "      <td>Bentley</td>\n",
       "      <td>Coupe</td>\n",
       "      <td>21.0</td>\n",
       "      <td>1</td>\n",
       "      <td>200000.0</td>\n",
       "      <td>0.0</td>\n",
       "      <td>1.0</td>\n",
       "      <td>0.0</td>\n",
       "      <td>0.0</td>\n",
       "      <td>...</td>\n",
       "      <td>0.0</td>\n",
       "      <td>0.0</td>\n",
       "      <td>0.0</td>\n",
       "      <td>0.0</td>\n",
       "      <td>0.0</td>\n",
       "      <td>0.0</td>\n",
       "      <td>0.0</td>\n",
       "      <td>0.0</td>\n",
       "      <td>0.0</td>\n",
       "      <td>0.0</td>\n",
       "    </tr>\n",
       "    <tr>\n",
       "      <th>28139</th>\n",
       "      <td>2001</td>\n",
       "      <td>Mazda</td>\n",
       "      <td>Coupe</td>\n",
       "      <td>18.0</td>\n",
       "      <td>0</td>\n",
       "      <td>25000.0</td>\n",
       "      <td>0.0</td>\n",
       "      <td>1.0</td>\n",
       "      <td>0.0</td>\n",
       "      <td>0.0</td>\n",
       "      <td>...</td>\n",
       "      <td>0.0</td>\n",
       "      <td>0.0</td>\n",
       "      <td>0.0</td>\n",
       "      <td>0.0</td>\n",
       "      <td>0.0</td>\n",
       "      <td>0.0</td>\n",
       "      <td>0.0</td>\n",
       "      <td>0.0</td>\n",
       "      <td>0.0</td>\n",
       "      <td>0.0</td>\n",
       "    </tr>\n",
       "    <tr>\n",
       "      <th>28140</th>\n",
       "      <td>2018</td>\n",
       "      <td>Ford</td>\n",
       "      <td>SUV</td>\n",
       "      <td>94.0</td>\n",
       "      <td>1</td>\n",
       "      <td>199000.0</td>\n",
       "      <td>0.0</td>\n",
       "      <td>0.0</td>\n",
       "      <td>0.0</td>\n",
       "      <td>0.0</td>\n",
       "      <td>...</td>\n",
       "      <td>0.0</td>\n",
       "      <td>0.0</td>\n",
       "      <td>0.0</td>\n",
       "      <td>0.0</td>\n",
       "      <td>0.0</td>\n",
       "      <td>0.0</td>\n",
       "      <td>0.0</td>\n",
       "      <td>0.0</td>\n",
       "      <td>0.0</td>\n",
       "      <td>0.0</td>\n",
       "    </tr>\n",
       "    <tr>\n",
       "      <th>28141</th>\n",
       "      <td>2022</td>\n",
       "      <td>Land</td>\n",
       "      <td>SUV</td>\n",
       "      <td>20.0</td>\n",
       "      <td>1</td>\n",
       "      <td>63700.0</td>\n",
       "      <td>0.0</td>\n",
       "      <td>0.0</td>\n",
       "      <td>0.0</td>\n",
       "      <td>0.0</td>\n",
       "      <td>...</td>\n",
       "      <td>0.0</td>\n",
       "      <td>0.0</td>\n",
       "      <td>0.0</td>\n",
       "      <td>0.0</td>\n",
       "      <td>0.0</td>\n",
       "      <td>0.0</td>\n",
       "      <td>0.0</td>\n",
       "      <td>0.0</td>\n",
       "      <td>0.0</td>\n",
       "      <td>0.0</td>\n",
       "    </tr>\n",
       "    <tr>\n",
       "      <th>28142</th>\n",
       "      <td>2020</td>\n",
       "      <td>Audi</td>\n",
       "      <td>Sedan</td>\n",
       "      <td>22.0</td>\n",
       "      <td>1</td>\n",
       "      <td>83500.0</td>\n",
       "      <td>0.0</td>\n",
       "      <td>0.0</td>\n",
       "      <td>0.0</td>\n",
       "      <td>0.0</td>\n",
       "      <td>...</td>\n",
       "      <td>0.0</td>\n",
       "      <td>0.0</td>\n",
       "      <td>0.0</td>\n",
       "      <td>0.0</td>\n",
       "      <td>0.0</td>\n",
       "      <td>0.0</td>\n",
       "      <td>0.0</td>\n",
       "      <td>0.0</td>\n",
       "      <td>0.0</td>\n",
       "      <td>0.0</td>\n",
       "    </tr>\n",
       "  </tbody>\n",
       "</table>\n",
       "<p>28143 rows × 72 columns</p>\n",
       "</div>"
      ],
      "text/plain": [
       "       model_year          brand         type  miles_per_gallon  \\\n",
       "0            2016         Toyota          SUV              13.0   \n",
       "1            2014            RAM          Van              15.0   \n",
       "2            2002           Ford        Coupe              16.0   \n",
       "3            2012            BMW        Sedan              27.0   \n",
       "4            2008  Mercedes-Benz  Convertible              18.0   \n",
       "...           ...            ...          ...               ...   \n",
       "28138        2017        Bentley        Coupe              21.0   \n",
       "28139        2001          Mazda        Coupe              18.0   \n",
       "28140        2018           Ford          SUV              94.0   \n",
       "28141        2022           Land          SUV              20.0   \n",
       "28142        2020           Audi        Sedan              22.0   \n",
       "\n",
       "       premium_version      msrp  (Convertible,)  (Coupe,)  (Hatchback,)  \\\n",
       "0                    1   84900.0             0.0       0.0           0.0   \n",
       "1                    0   35000.0             0.0       0.0           0.0   \n",
       "2                    0   26250.0             0.0       1.0           0.0   \n",
       "3                    1   45000.0             0.0       0.0           0.0   \n",
       "4                    1  100000.0             1.0       0.0           0.0   \n",
       "...                ...       ...             ...       ...           ...   \n",
       "28138                1  200000.0             0.0       1.0           0.0   \n",
       "28139                0   25000.0             0.0       1.0           0.0   \n",
       "28140                1  199000.0             0.0       0.0           0.0   \n",
       "28141                1   63700.0             0.0       0.0           0.0   \n",
       "28142                1   83500.0             0.0       0.0           0.0   \n",
       "\n",
       "       (Minivan,)  ...  (Saab,)  (Saturn,)  (Scion,)  (Subaru,)  (Suzuki,)  \\\n",
       "0             0.0  ...      0.0        0.0       0.0        0.0        0.0   \n",
       "1             0.0  ...      0.0        0.0       0.0        0.0        0.0   \n",
       "2             0.0  ...      0.0        0.0       0.0        0.0        0.0   \n",
       "3             0.0  ...      0.0        0.0       0.0        0.0        0.0   \n",
       "4             0.0  ...      0.0        0.0       0.0        0.0        0.0   \n",
       "...           ...  ...      ...        ...       ...        ...        ...   \n",
       "28138         0.0  ...      0.0        0.0       0.0        0.0        0.0   \n",
       "28139         0.0  ...      0.0        0.0       0.0        0.0        0.0   \n",
       "28140         0.0  ...      0.0        0.0       0.0        0.0        0.0   \n",
       "28141         0.0  ...      0.0        0.0       0.0        0.0        0.0   \n",
       "28142         0.0  ...      0.0        0.0       0.0        0.0        0.0   \n",
       "\n",
       "       (Tesla,)  (Toyota,)  (Volkswagen,)  (Volvo,)  (smart,)  \n",
       "0           0.0        1.0            0.0       0.0       0.0  \n",
       "1           0.0        0.0            0.0       0.0       0.0  \n",
       "2           0.0        0.0            0.0       0.0       0.0  \n",
       "3           0.0        0.0            0.0       0.0       0.0  \n",
       "4           0.0        0.0            0.0       0.0       0.0  \n",
       "...         ...        ...            ...       ...       ...  \n",
       "28138       0.0        0.0            0.0       0.0       0.0  \n",
       "28139       0.0        0.0            0.0       0.0       0.0  \n",
       "28140       0.0        0.0            0.0       0.0       0.0  \n",
       "28141       0.0        0.0            0.0       0.0       0.0  \n",
       "28142       0.0        0.0            0.0       0.0       0.0  \n",
       "\n",
       "[28143 rows x 72 columns]"
      ]
     },
     "execution_count": 29,
     "metadata": {},
     "output_type": "execute_result"
    }
   ],
   "source": [
    "car"
   ]
  },
  {
   "cell_type": "code",
   "execution_count": 49,
   "id": "4e30933b-f51b-4f67-a7f6-eb0aa8b38353",
   "metadata": {},
   "outputs": [],
   "source": [
    "X_df=car.drop(['brand','type','msrp'],axis=1)\n",
    "y=car['msrp']"
   ]
  },
  {
   "cell_type": "code",
   "execution_count": 53,
   "id": "13809bc8-7329-4888-82e2-88a5f85810c7",
   "metadata": {},
   "outputs": [
    {
     "data": {
      "text/html": [
       "<div>\n",
       "<style scoped>\n",
       "    .dataframe tbody tr th:only-of-type {\n",
       "        vertical-align: middle;\n",
       "    }\n",
       "\n",
       "    .dataframe tbody tr th {\n",
       "        vertical-align: top;\n",
       "    }\n",
       "\n",
       "    .dataframe thead th {\n",
       "        text-align: right;\n",
       "    }\n",
       "</style>\n",
       "<table border=\"1\" class=\"dataframe\">\n",
       "  <thead>\n",
       "    <tr style=\"text-align: right;\">\n",
       "      <th></th>\n",
       "      <th>model_year</th>\n",
       "      <th>miles_per_gallon</th>\n",
       "      <th>premium_version</th>\n",
       "      <th>(Convertible,)</th>\n",
       "      <th>(Coupe,)</th>\n",
       "      <th>(Hatchback,)</th>\n",
       "      <th>(Minivan,)</th>\n",
       "      <th>(Pickup,)</th>\n",
       "      <th>(SUV,)</th>\n",
       "      <th>(Sedan,)</th>\n",
       "      <th>...</th>\n",
       "      <th>(Saab,)</th>\n",
       "      <th>(Saturn,)</th>\n",
       "      <th>(Scion,)</th>\n",
       "      <th>(Subaru,)</th>\n",
       "      <th>(Suzuki,)</th>\n",
       "      <th>(Tesla,)</th>\n",
       "      <th>(Toyota,)</th>\n",
       "      <th>(Volkswagen,)</th>\n",
       "      <th>(Volvo,)</th>\n",
       "      <th>(smart,)</th>\n",
       "    </tr>\n",
       "  </thead>\n",
       "  <tbody>\n",
       "    <tr>\n",
       "      <th>0</th>\n",
       "      <td>2016</td>\n",
       "      <td>13.0</td>\n",
       "      <td>1</td>\n",
       "      <td>0.0</td>\n",
       "      <td>0.0</td>\n",
       "      <td>0.0</td>\n",
       "      <td>0.0</td>\n",
       "      <td>0.0</td>\n",
       "      <td>1.0</td>\n",
       "      <td>0.0</td>\n",
       "      <td>...</td>\n",
       "      <td>0.0</td>\n",
       "      <td>0.0</td>\n",
       "      <td>0.0</td>\n",
       "      <td>0.0</td>\n",
       "      <td>0.0</td>\n",
       "      <td>0.0</td>\n",
       "      <td>1.0</td>\n",
       "      <td>0.0</td>\n",
       "      <td>0.0</td>\n",
       "      <td>0.0</td>\n",
       "    </tr>\n",
       "    <tr>\n",
       "      <th>1</th>\n",
       "      <td>2014</td>\n",
       "      <td>15.0</td>\n",
       "      <td>0</td>\n",
       "      <td>0.0</td>\n",
       "      <td>0.0</td>\n",
       "      <td>0.0</td>\n",
       "      <td>0.0</td>\n",
       "      <td>0.0</td>\n",
       "      <td>0.0</td>\n",
       "      <td>0.0</td>\n",
       "      <td>...</td>\n",
       "      <td>0.0</td>\n",
       "      <td>0.0</td>\n",
       "      <td>0.0</td>\n",
       "      <td>0.0</td>\n",
       "      <td>0.0</td>\n",
       "      <td>0.0</td>\n",
       "      <td>0.0</td>\n",
       "      <td>0.0</td>\n",
       "      <td>0.0</td>\n",
       "      <td>0.0</td>\n",
       "    </tr>\n",
       "    <tr>\n",
       "      <th>2</th>\n",
       "      <td>2002</td>\n",
       "      <td>16.0</td>\n",
       "      <td>0</td>\n",
       "      <td>0.0</td>\n",
       "      <td>1.0</td>\n",
       "      <td>0.0</td>\n",
       "      <td>0.0</td>\n",
       "      <td>0.0</td>\n",
       "      <td>0.0</td>\n",
       "      <td>0.0</td>\n",
       "      <td>...</td>\n",
       "      <td>0.0</td>\n",
       "      <td>0.0</td>\n",
       "      <td>0.0</td>\n",
       "      <td>0.0</td>\n",
       "      <td>0.0</td>\n",
       "      <td>0.0</td>\n",
       "      <td>0.0</td>\n",
       "      <td>0.0</td>\n",
       "      <td>0.0</td>\n",
       "      <td>0.0</td>\n",
       "    </tr>\n",
       "    <tr>\n",
       "      <th>3</th>\n",
       "      <td>2012</td>\n",
       "      <td>27.0</td>\n",
       "      <td>1</td>\n",
       "      <td>0.0</td>\n",
       "      <td>0.0</td>\n",
       "      <td>0.0</td>\n",
       "      <td>0.0</td>\n",
       "      <td>0.0</td>\n",
       "      <td>0.0</td>\n",
       "      <td>1.0</td>\n",
       "      <td>...</td>\n",
       "      <td>0.0</td>\n",
       "      <td>0.0</td>\n",
       "      <td>0.0</td>\n",
       "      <td>0.0</td>\n",
       "      <td>0.0</td>\n",
       "      <td>0.0</td>\n",
       "      <td>0.0</td>\n",
       "      <td>0.0</td>\n",
       "      <td>0.0</td>\n",
       "      <td>0.0</td>\n",
       "    </tr>\n",
       "    <tr>\n",
       "      <th>4</th>\n",
       "      <td>2008</td>\n",
       "      <td>18.0</td>\n",
       "      <td>1</td>\n",
       "      <td>1.0</td>\n",
       "      <td>0.0</td>\n",
       "      <td>0.0</td>\n",
       "      <td>0.0</td>\n",
       "      <td>0.0</td>\n",
       "      <td>0.0</td>\n",
       "      <td>0.0</td>\n",
       "      <td>...</td>\n",
       "      <td>0.0</td>\n",
       "      <td>0.0</td>\n",
       "      <td>0.0</td>\n",
       "      <td>0.0</td>\n",
       "      <td>0.0</td>\n",
       "      <td>0.0</td>\n",
       "      <td>0.0</td>\n",
       "      <td>0.0</td>\n",
       "      <td>0.0</td>\n",
       "      <td>0.0</td>\n",
       "    </tr>\n",
       "    <tr>\n",
       "      <th>...</th>\n",
       "      <td>...</td>\n",
       "      <td>...</td>\n",
       "      <td>...</td>\n",
       "      <td>...</td>\n",
       "      <td>...</td>\n",
       "      <td>...</td>\n",
       "      <td>...</td>\n",
       "      <td>...</td>\n",
       "      <td>...</td>\n",
       "      <td>...</td>\n",
       "      <td>...</td>\n",
       "      <td>...</td>\n",
       "      <td>...</td>\n",
       "      <td>...</td>\n",
       "      <td>...</td>\n",
       "      <td>...</td>\n",
       "      <td>...</td>\n",
       "      <td>...</td>\n",
       "      <td>...</td>\n",
       "      <td>...</td>\n",
       "      <td>...</td>\n",
       "    </tr>\n",
       "    <tr>\n",
       "      <th>28138</th>\n",
       "      <td>2017</td>\n",
       "      <td>21.0</td>\n",
       "      <td>1</td>\n",
       "      <td>0.0</td>\n",
       "      <td>1.0</td>\n",
       "      <td>0.0</td>\n",
       "      <td>0.0</td>\n",
       "      <td>0.0</td>\n",
       "      <td>0.0</td>\n",
       "      <td>0.0</td>\n",
       "      <td>...</td>\n",
       "      <td>0.0</td>\n",
       "      <td>0.0</td>\n",
       "      <td>0.0</td>\n",
       "      <td>0.0</td>\n",
       "      <td>0.0</td>\n",
       "      <td>0.0</td>\n",
       "      <td>0.0</td>\n",
       "      <td>0.0</td>\n",
       "      <td>0.0</td>\n",
       "      <td>0.0</td>\n",
       "    </tr>\n",
       "    <tr>\n",
       "      <th>28139</th>\n",
       "      <td>2001</td>\n",
       "      <td>18.0</td>\n",
       "      <td>0</td>\n",
       "      <td>0.0</td>\n",
       "      <td>1.0</td>\n",
       "      <td>0.0</td>\n",
       "      <td>0.0</td>\n",
       "      <td>0.0</td>\n",
       "      <td>0.0</td>\n",
       "      <td>0.0</td>\n",
       "      <td>...</td>\n",
       "      <td>0.0</td>\n",
       "      <td>0.0</td>\n",
       "      <td>0.0</td>\n",
       "      <td>0.0</td>\n",
       "      <td>0.0</td>\n",
       "      <td>0.0</td>\n",
       "      <td>0.0</td>\n",
       "      <td>0.0</td>\n",
       "      <td>0.0</td>\n",
       "      <td>0.0</td>\n",
       "    </tr>\n",
       "    <tr>\n",
       "      <th>28140</th>\n",
       "      <td>2018</td>\n",
       "      <td>94.0</td>\n",
       "      <td>1</td>\n",
       "      <td>0.0</td>\n",
       "      <td>0.0</td>\n",
       "      <td>0.0</td>\n",
       "      <td>0.0</td>\n",
       "      <td>0.0</td>\n",
       "      <td>1.0</td>\n",
       "      <td>0.0</td>\n",
       "      <td>...</td>\n",
       "      <td>0.0</td>\n",
       "      <td>0.0</td>\n",
       "      <td>0.0</td>\n",
       "      <td>0.0</td>\n",
       "      <td>0.0</td>\n",
       "      <td>0.0</td>\n",
       "      <td>0.0</td>\n",
       "      <td>0.0</td>\n",
       "      <td>0.0</td>\n",
       "      <td>0.0</td>\n",
       "    </tr>\n",
       "    <tr>\n",
       "      <th>28141</th>\n",
       "      <td>2022</td>\n",
       "      <td>20.0</td>\n",
       "      <td>1</td>\n",
       "      <td>0.0</td>\n",
       "      <td>0.0</td>\n",
       "      <td>0.0</td>\n",
       "      <td>0.0</td>\n",
       "      <td>0.0</td>\n",
       "      <td>1.0</td>\n",
       "      <td>0.0</td>\n",
       "      <td>...</td>\n",
       "      <td>0.0</td>\n",
       "      <td>0.0</td>\n",
       "      <td>0.0</td>\n",
       "      <td>0.0</td>\n",
       "      <td>0.0</td>\n",
       "      <td>0.0</td>\n",
       "      <td>0.0</td>\n",
       "      <td>0.0</td>\n",
       "      <td>0.0</td>\n",
       "      <td>0.0</td>\n",
       "    </tr>\n",
       "    <tr>\n",
       "      <th>28142</th>\n",
       "      <td>2020</td>\n",
       "      <td>22.0</td>\n",
       "      <td>1</td>\n",
       "      <td>0.0</td>\n",
       "      <td>0.0</td>\n",
       "      <td>0.0</td>\n",
       "      <td>0.0</td>\n",
       "      <td>0.0</td>\n",
       "      <td>0.0</td>\n",
       "      <td>1.0</td>\n",
       "      <td>...</td>\n",
       "      <td>0.0</td>\n",
       "      <td>0.0</td>\n",
       "      <td>0.0</td>\n",
       "      <td>0.0</td>\n",
       "      <td>0.0</td>\n",
       "      <td>0.0</td>\n",
       "      <td>0.0</td>\n",
       "      <td>0.0</td>\n",
       "      <td>0.0</td>\n",
       "      <td>0.0</td>\n",
       "    </tr>\n",
       "  </tbody>\n",
       "</table>\n",
       "<p>28143 rows × 69 columns</p>\n",
       "</div>"
      ],
      "text/plain": [
       "       model_year  miles_per_gallon  premium_version  (Convertible,)  \\\n",
       "0            2016              13.0                1             0.0   \n",
       "1            2014              15.0                0             0.0   \n",
       "2            2002              16.0                0             0.0   \n",
       "3            2012              27.0                1             0.0   \n",
       "4            2008              18.0                1             1.0   \n",
       "...           ...               ...              ...             ...   \n",
       "28138        2017              21.0                1             0.0   \n",
       "28139        2001              18.0                0             0.0   \n",
       "28140        2018              94.0                1             0.0   \n",
       "28141        2022              20.0                1             0.0   \n",
       "28142        2020              22.0                1             0.0   \n",
       "\n",
       "       (Coupe,)  (Hatchback,)  (Minivan,)  (Pickup,)  (SUV,)  (Sedan,)  ...  \\\n",
       "0           0.0           0.0         0.0        0.0     1.0       0.0  ...   \n",
       "1           0.0           0.0         0.0        0.0     0.0       0.0  ...   \n",
       "2           1.0           0.0         0.0        0.0     0.0       0.0  ...   \n",
       "3           0.0           0.0         0.0        0.0     0.0       1.0  ...   \n",
       "4           0.0           0.0         0.0        0.0     0.0       0.0  ...   \n",
       "...         ...           ...         ...        ...     ...       ...  ...   \n",
       "28138       1.0           0.0         0.0        0.0     0.0       0.0  ...   \n",
       "28139       1.0           0.0         0.0        0.0     0.0       0.0  ...   \n",
       "28140       0.0           0.0         0.0        0.0     1.0       0.0  ...   \n",
       "28141       0.0           0.0         0.0        0.0     1.0       0.0  ...   \n",
       "28142       0.0           0.0         0.0        0.0     0.0       1.0  ...   \n",
       "\n",
       "       (Saab,)  (Saturn,)  (Scion,)  (Subaru,)  (Suzuki,)  (Tesla,)  \\\n",
       "0          0.0        0.0       0.0        0.0        0.0       0.0   \n",
       "1          0.0        0.0       0.0        0.0        0.0       0.0   \n",
       "2          0.0        0.0       0.0        0.0        0.0       0.0   \n",
       "3          0.0        0.0       0.0        0.0        0.0       0.0   \n",
       "4          0.0        0.0       0.0        0.0        0.0       0.0   \n",
       "...        ...        ...       ...        ...        ...       ...   \n",
       "28138      0.0        0.0       0.0        0.0        0.0       0.0   \n",
       "28139      0.0        0.0       0.0        0.0        0.0       0.0   \n",
       "28140      0.0        0.0       0.0        0.0        0.0       0.0   \n",
       "28141      0.0        0.0       0.0        0.0        0.0       0.0   \n",
       "28142      0.0        0.0       0.0        0.0        0.0       0.0   \n",
       "\n",
       "       (Toyota,)  (Volkswagen,)  (Volvo,)  (smart,)  \n",
       "0            1.0            0.0       0.0       0.0  \n",
       "1            0.0            0.0       0.0       0.0  \n",
       "2            0.0            0.0       0.0       0.0  \n",
       "3            0.0            0.0       0.0       0.0  \n",
       "4            0.0            0.0       0.0       0.0  \n",
       "...          ...            ...       ...       ...  \n",
       "28138        0.0            0.0       0.0       0.0  \n",
       "28139        0.0            0.0       0.0       0.0  \n",
       "28140        0.0            0.0       0.0       0.0  \n",
       "28141        0.0            0.0       0.0       0.0  \n",
       "28142        0.0            0.0       0.0       0.0  \n",
       "\n",
       "[28143 rows x 69 columns]"
      ]
     },
     "execution_count": 53,
     "metadata": {},
     "output_type": "execute_result"
    }
   ],
   "source": [
    "X_df"
   ]
  },
  {
   "cell_type": "code",
   "execution_count": 57,
   "id": "ecf182ea-d261-4671-8520-a5a413a14a61",
   "metadata": {},
   "outputs": [],
   "source": [
    "X_df=X_df.drop('model_year',axis=1)"
   ]
  },
  {
   "cell_type": "code",
   "execution_count": 61,
   "id": "273cdca1-9ca7-4ebb-a275-a2eebb88387a",
   "metadata": {},
   "outputs": [],
   "source": [
    "X=X_df.values\n",
    "Y=y.values"
   ]
  },
  {
   "cell_type": "code",
   "execution_count": 63,
   "id": "68104068-229e-4b48-8097-abef6cb58bdc",
   "metadata": {},
   "outputs": [
    {
     "data": {
      "text/plain": [
       "array([ 84900.,  35000.,  26250., ..., 199000.,  63700.,  83500.])"
      ]
     },
     "execution_count": 63,
     "metadata": {},
     "output_type": "execute_result"
    }
   ],
   "source": [
    "Y"
   ]
  },
  {
   "cell_type": "code",
   "execution_count": 65,
   "id": "c1b78234-00cc-4ef0-a5fc-1d17bc35b399",
   "metadata": {},
   "outputs": [],
   "source": [
    "from sklearn.model_selection import train_test_split\n",
    "X_train,X_test,y_train,y_test=train_test_split(X,Y,test_size=0.3,random_state=0)"
   ]
  },
  {
   "cell_type": "code",
   "execution_count": 67,
   "id": "c39985b1-1b15-45e2-823a-274b2ba981b2",
   "metadata": {},
   "outputs": [
    {
     "name": "stdout",
     "output_type": "stream",
     "text": [
      "(19700, 68)\n",
      "(8443, 68)\n",
      "(19700,)\n",
      "(8443,)\n"
     ]
    }
   ],
   "source": [
    "print(X_train.shape)\n",
    "print(X_test.shape)\n",
    "print(y_train.shape)\n",
    "print(y_test.shape)"
   ]
  },
  {
   "cell_type": "code",
   "execution_count": 69,
   "id": "38813835-d6a0-49f5-8518-7356a1d37a71",
   "metadata": {},
   "outputs": [
    {
     "data": {
      "text/html": [
       "<style>#sk-container-id-2 {\n",
       "  /* Definition of color scheme common for light and dark mode */\n",
       "  --sklearn-color-text: black;\n",
       "  --sklearn-color-line: gray;\n",
       "  /* Definition of color scheme for unfitted estimators */\n",
       "  --sklearn-color-unfitted-level-0: #fff5e6;\n",
       "  --sklearn-color-unfitted-level-1: #f6e4d2;\n",
       "  --sklearn-color-unfitted-level-2: #ffe0b3;\n",
       "  --sklearn-color-unfitted-level-3: chocolate;\n",
       "  /* Definition of color scheme for fitted estimators */\n",
       "  --sklearn-color-fitted-level-0: #f0f8ff;\n",
       "  --sklearn-color-fitted-level-1: #d4ebff;\n",
       "  --sklearn-color-fitted-level-2: #b3dbfd;\n",
       "  --sklearn-color-fitted-level-3: cornflowerblue;\n",
       "\n",
       "  /* Specific color for light theme */\n",
       "  --sklearn-color-text-on-default-background: var(--sg-text-color, var(--theme-code-foreground, var(--jp-content-font-color1, black)));\n",
       "  --sklearn-color-background: var(--sg-background-color, var(--theme-background, var(--jp-layout-color0, white)));\n",
       "  --sklearn-color-border-box: var(--sg-text-color, var(--theme-code-foreground, var(--jp-content-font-color1, black)));\n",
       "  --sklearn-color-icon: #696969;\n",
       "\n",
       "  @media (prefers-color-scheme: dark) {\n",
       "    /* Redefinition of color scheme for dark theme */\n",
       "    --sklearn-color-text-on-default-background: var(--sg-text-color, var(--theme-code-foreground, var(--jp-content-font-color1, white)));\n",
       "    --sklearn-color-background: var(--sg-background-color, var(--theme-background, var(--jp-layout-color0, #111)));\n",
       "    --sklearn-color-border-box: var(--sg-text-color, var(--theme-code-foreground, var(--jp-content-font-color1, white)));\n",
       "    --sklearn-color-icon: #878787;\n",
       "  }\n",
       "}\n",
       "\n",
       "#sk-container-id-2 {\n",
       "  color: var(--sklearn-color-text);\n",
       "}\n",
       "\n",
       "#sk-container-id-2 pre {\n",
       "  padding: 0;\n",
       "}\n",
       "\n",
       "#sk-container-id-2 input.sk-hidden--visually {\n",
       "  border: 0;\n",
       "  clip: rect(1px 1px 1px 1px);\n",
       "  clip: rect(1px, 1px, 1px, 1px);\n",
       "  height: 1px;\n",
       "  margin: -1px;\n",
       "  overflow: hidden;\n",
       "  padding: 0;\n",
       "  position: absolute;\n",
       "  width: 1px;\n",
       "}\n",
       "\n",
       "#sk-container-id-2 div.sk-dashed-wrapped {\n",
       "  border: 1px dashed var(--sklearn-color-line);\n",
       "  margin: 0 0.4em 0.5em 0.4em;\n",
       "  box-sizing: border-box;\n",
       "  padding-bottom: 0.4em;\n",
       "  background-color: var(--sklearn-color-background);\n",
       "}\n",
       "\n",
       "#sk-container-id-2 div.sk-container {\n",
       "  /* jupyter's `normalize.less` sets `[hidden] { display: none; }`\n",
       "     but bootstrap.min.css set `[hidden] { display: none !important; }`\n",
       "     so we also need the `!important` here to be able to override the\n",
       "     default hidden behavior on the sphinx rendered scikit-learn.org.\n",
       "     See: https://github.com/scikit-learn/scikit-learn/issues/21755 */\n",
       "  display: inline-block !important;\n",
       "  position: relative;\n",
       "}\n",
       "\n",
       "#sk-container-id-2 div.sk-text-repr-fallback {\n",
       "  display: none;\n",
       "}\n",
       "\n",
       "div.sk-parallel-item,\n",
       "div.sk-serial,\n",
       "div.sk-item {\n",
       "  /* draw centered vertical line to link estimators */\n",
       "  background-image: linear-gradient(var(--sklearn-color-text-on-default-background), var(--sklearn-color-text-on-default-background));\n",
       "  background-size: 2px 100%;\n",
       "  background-repeat: no-repeat;\n",
       "  background-position: center center;\n",
       "}\n",
       "\n",
       "/* Parallel-specific style estimator block */\n",
       "\n",
       "#sk-container-id-2 div.sk-parallel-item::after {\n",
       "  content: \"\";\n",
       "  width: 100%;\n",
       "  border-bottom: 2px solid var(--sklearn-color-text-on-default-background);\n",
       "  flex-grow: 1;\n",
       "}\n",
       "\n",
       "#sk-container-id-2 div.sk-parallel {\n",
       "  display: flex;\n",
       "  align-items: stretch;\n",
       "  justify-content: center;\n",
       "  background-color: var(--sklearn-color-background);\n",
       "  position: relative;\n",
       "}\n",
       "\n",
       "#sk-container-id-2 div.sk-parallel-item {\n",
       "  display: flex;\n",
       "  flex-direction: column;\n",
       "}\n",
       "\n",
       "#sk-container-id-2 div.sk-parallel-item:first-child::after {\n",
       "  align-self: flex-end;\n",
       "  width: 50%;\n",
       "}\n",
       "\n",
       "#sk-container-id-2 div.sk-parallel-item:last-child::after {\n",
       "  align-self: flex-start;\n",
       "  width: 50%;\n",
       "}\n",
       "\n",
       "#sk-container-id-2 div.sk-parallel-item:only-child::after {\n",
       "  width: 0;\n",
       "}\n",
       "\n",
       "/* Serial-specific style estimator block */\n",
       "\n",
       "#sk-container-id-2 div.sk-serial {\n",
       "  display: flex;\n",
       "  flex-direction: column;\n",
       "  align-items: center;\n",
       "  background-color: var(--sklearn-color-background);\n",
       "  padding-right: 1em;\n",
       "  padding-left: 1em;\n",
       "}\n",
       "\n",
       "\n",
       "/* Toggleable style: style used for estimator/Pipeline/ColumnTransformer box that is\n",
       "clickable and can be expanded/collapsed.\n",
       "- Pipeline and ColumnTransformer use this feature and define the default style\n",
       "- Estimators will overwrite some part of the style using the `sk-estimator` class\n",
       "*/\n",
       "\n",
       "/* Pipeline and ColumnTransformer style (default) */\n",
       "\n",
       "#sk-container-id-2 div.sk-toggleable {\n",
       "  /* Default theme specific background. It is overwritten whether we have a\n",
       "  specific estimator or a Pipeline/ColumnTransformer */\n",
       "  background-color: var(--sklearn-color-background);\n",
       "}\n",
       "\n",
       "/* Toggleable label */\n",
       "#sk-container-id-2 label.sk-toggleable__label {\n",
       "  cursor: pointer;\n",
       "  display: block;\n",
       "  width: 100%;\n",
       "  margin-bottom: 0;\n",
       "  padding: 0.5em;\n",
       "  box-sizing: border-box;\n",
       "  text-align: center;\n",
       "}\n",
       "\n",
       "#sk-container-id-2 label.sk-toggleable__label-arrow:before {\n",
       "  /* Arrow on the left of the label */\n",
       "  content: \"▸\";\n",
       "  float: left;\n",
       "  margin-right: 0.25em;\n",
       "  color: var(--sklearn-color-icon);\n",
       "}\n",
       "\n",
       "#sk-container-id-2 label.sk-toggleable__label-arrow:hover:before {\n",
       "  color: var(--sklearn-color-text);\n",
       "}\n",
       "\n",
       "/* Toggleable content - dropdown */\n",
       "\n",
       "#sk-container-id-2 div.sk-toggleable__content {\n",
       "  max-height: 0;\n",
       "  max-width: 0;\n",
       "  overflow: hidden;\n",
       "  text-align: left;\n",
       "  /* unfitted */\n",
       "  background-color: var(--sklearn-color-unfitted-level-0);\n",
       "}\n",
       "\n",
       "#sk-container-id-2 div.sk-toggleable__content.fitted {\n",
       "  /* fitted */\n",
       "  background-color: var(--sklearn-color-fitted-level-0);\n",
       "}\n",
       "\n",
       "#sk-container-id-2 div.sk-toggleable__content pre {\n",
       "  margin: 0.2em;\n",
       "  border-radius: 0.25em;\n",
       "  color: var(--sklearn-color-text);\n",
       "  /* unfitted */\n",
       "  background-color: var(--sklearn-color-unfitted-level-0);\n",
       "}\n",
       "\n",
       "#sk-container-id-2 div.sk-toggleable__content.fitted pre {\n",
       "  /* unfitted */\n",
       "  background-color: var(--sklearn-color-fitted-level-0);\n",
       "}\n",
       "\n",
       "#sk-container-id-2 input.sk-toggleable__control:checked~div.sk-toggleable__content {\n",
       "  /* Expand drop-down */\n",
       "  max-height: 200px;\n",
       "  max-width: 100%;\n",
       "  overflow: auto;\n",
       "}\n",
       "\n",
       "#sk-container-id-2 input.sk-toggleable__control:checked~label.sk-toggleable__label-arrow:before {\n",
       "  content: \"▾\";\n",
       "}\n",
       "\n",
       "/* Pipeline/ColumnTransformer-specific style */\n",
       "\n",
       "#sk-container-id-2 div.sk-label input.sk-toggleable__control:checked~label.sk-toggleable__label {\n",
       "  color: var(--sklearn-color-text);\n",
       "  background-color: var(--sklearn-color-unfitted-level-2);\n",
       "}\n",
       "\n",
       "#sk-container-id-2 div.sk-label.fitted input.sk-toggleable__control:checked~label.sk-toggleable__label {\n",
       "  background-color: var(--sklearn-color-fitted-level-2);\n",
       "}\n",
       "\n",
       "/* Estimator-specific style */\n",
       "\n",
       "/* Colorize estimator box */\n",
       "#sk-container-id-2 div.sk-estimator input.sk-toggleable__control:checked~label.sk-toggleable__label {\n",
       "  /* unfitted */\n",
       "  background-color: var(--sklearn-color-unfitted-level-2);\n",
       "}\n",
       "\n",
       "#sk-container-id-2 div.sk-estimator.fitted input.sk-toggleable__control:checked~label.sk-toggleable__label {\n",
       "  /* fitted */\n",
       "  background-color: var(--sklearn-color-fitted-level-2);\n",
       "}\n",
       "\n",
       "#sk-container-id-2 div.sk-label label.sk-toggleable__label,\n",
       "#sk-container-id-2 div.sk-label label {\n",
       "  /* The background is the default theme color */\n",
       "  color: var(--sklearn-color-text-on-default-background);\n",
       "}\n",
       "\n",
       "/* On hover, darken the color of the background */\n",
       "#sk-container-id-2 div.sk-label:hover label.sk-toggleable__label {\n",
       "  color: var(--sklearn-color-text);\n",
       "  background-color: var(--sklearn-color-unfitted-level-2);\n",
       "}\n",
       "\n",
       "/* Label box, darken color on hover, fitted */\n",
       "#sk-container-id-2 div.sk-label.fitted:hover label.sk-toggleable__label.fitted {\n",
       "  color: var(--sklearn-color-text);\n",
       "  background-color: var(--sklearn-color-fitted-level-2);\n",
       "}\n",
       "\n",
       "/* Estimator label */\n",
       "\n",
       "#sk-container-id-2 div.sk-label label {\n",
       "  font-family: monospace;\n",
       "  font-weight: bold;\n",
       "  display: inline-block;\n",
       "  line-height: 1.2em;\n",
       "}\n",
       "\n",
       "#sk-container-id-2 div.sk-label-container {\n",
       "  text-align: center;\n",
       "}\n",
       "\n",
       "/* Estimator-specific */\n",
       "#sk-container-id-2 div.sk-estimator {\n",
       "  font-family: monospace;\n",
       "  border: 1px dotted var(--sklearn-color-border-box);\n",
       "  border-radius: 0.25em;\n",
       "  box-sizing: border-box;\n",
       "  margin-bottom: 0.5em;\n",
       "  /* unfitted */\n",
       "  background-color: var(--sklearn-color-unfitted-level-0);\n",
       "}\n",
       "\n",
       "#sk-container-id-2 div.sk-estimator.fitted {\n",
       "  /* fitted */\n",
       "  background-color: var(--sklearn-color-fitted-level-0);\n",
       "}\n",
       "\n",
       "/* on hover */\n",
       "#sk-container-id-2 div.sk-estimator:hover {\n",
       "  /* unfitted */\n",
       "  background-color: var(--sklearn-color-unfitted-level-2);\n",
       "}\n",
       "\n",
       "#sk-container-id-2 div.sk-estimator.fitted:hover {\n",
       "  /* fitted */\n",
       "  background-color: var(--sklearn-color-fitted-level-2);\n",
       "}\n",
       "\n",
       "/* Specification for estimator info (e.g. \"i\" and \"?\") */\n",
       "\n",
       "/* Common style for \"i\" and \"?\" */\n",
       "\n",
       ".sk-estimator-doc-link,\n",
       "a:link.sk-estimator-doc-link,\n",
       "a:visited.sk-estimator-doc-link {\n",
       "  float: right;\n",
       "  font-size: smaller;\n",
       "  line-height: 1em;\n",
       "  font-family: monospace;\n",
       "  background-color: var(--sklearn-color-background);\n",
       "  border-radius: 1em;\n",
       "  height: 1em;\n",
       "  width: 1em;\n",
       "  text-decoration: none !important;\n",
       "  margin-left: 1ex;\n",
       "  /* unfitted */\n",
       "  border: var(--sklearn-color-unfitted-level-1) 1pt solid;\n",
       "  color: var(--sklearn-color-unfitted-level-1);\n",
       "}\n",
       "\n",
       ".sk-estimator-doc-link.fitted,\n",
       "a:link.sk-estimator-doc-link.fitted,\n",
       "a:visited.sk-estimator-doc-link.fitted {\n",
       "  /* fitted */\n",
       "  border: var(--sklearn-color-fitted-level-1) 1pt solid;\n",
       "  color: var(--sklearn-color-fitted-level-1);\n",
       "}\n",
       "\n",
       "/* On hover */\n",
       "div.sk-estimator:hover .sk-estimator-doc-link:hover,\n",
       ".sk-estimator-doc-link:hover,\n",
       "div.sk-label-container:hover .sk-estimator-doc-link:hover,\n",
       ".sk-estimator-doc-link:hover {\n",
       "  /* unfitted */\n",
       "  background-color: var(--sklearn-color-unfitted-level-3);\n",
       "  color: var(--sklearn-color-background);\n",
       "  text-decoration: none;\n",
       "}\n",
       "\n",
       "div.sk-estimator.fitted:hover .sk-estimator-doc-link.fitted:hover,\n",
       ".sk-estimator-doc-link.fitted:hover,\n",
       "div.sk-label-container:hover .sk-estimator-doc-link.fitted:hover,\n",
       ".sk-estimator-doc-link.fitted:hover {\n",
       "  /* fitted */\n",
       "  background-color: var(--sklearn-color-fitted-level-3);\n",
       "  color: var(--sklearn-color-background);\n",
       "  text-decoration: none;\n",
       "}\n",
       "\n",
       "/* Span, style for the box shown on hovering the info icon */\n",
       ".sk-estimator-doc-link span {\n",
       "  display: none;\n",
       "  z-index: 9999;\n",
       "  position: relative;\n",
       "  font-weight: normal;\n",
       "  right: .2ex;\n",
       "  padding: .5ex;\n",
       "  margin: .5ex;\n",
       "  width: min-content;\n",
       "  min-width: 20ex;\n",
       "  max-width: 50ex;\n",
       "  color: var(--sklearn-color-text);\n",
       "  box-shadow: 2pt 2pt 4pt #999;\n",
       "  /* unfitted */\n",
       "  background: var(--sklearn-color-unfitted-level-0);\n",
       "  border: .5pt solid var(--sklearn-color-unfitted-level-3);\n",
       "}\n",
       "\n",
       ".sk-estimator-doc-link.fitted span {\n",
       "  /* fitted */\n",
       "  background: var(--sklearn-color-fitted-level-0);\n",
       "  border: var(--sklearn-color-fitted-level-3);\n",
       "}\n",
       "\n",
       ".sk-estimator-doc-link:hover span {\n",
       "  display: block;\n",
       "}\n",
       "\n",
       "/* \"?\"-specific style due to the `<a>` HTML tag */\n",
       "\n",
       "#sk-container-id-2 a.estimator_doc_link {\n",
       "  float: right;\n",
       "  font-size: 1rem;\n",
       "  line-height: 1em;\n",
       "  font-family: monospace;\n",
       "  background-color: var(--sklearn-color-background);\n",
       "  border-radius: 1rem;\n",
       "  height: 1rem;\n",
       "  width: 1rem;\n",
       "  text-decoration: none;\n",
       "  /* unfitted */\n",
       "  color: var(--sklearn-color-unfitted-level-1);\n",
       "  border: var(--sklearn-color-unfitted-level-1) 1pt solid;\n",
       "}\n",
       "\n",
       "#sk-container-id-2 a.estimator_doc_link.fitted {\n",
       "  /* fitted */\n",
       "  border: var(--sklearn-color-fitted-level-1) 1pt solid;\n",
       "  color: var(--sklearn-color-fitted-level-1);\n",
       "}\n",
       "\n",
       "/* On hover */\n",
       "#sk-container-id-2 a.estimator_doc_link:hover {\n",
       "  /* unfitted */\n",
       "  background-color: var(--sklearn-color-unfitted-level-3);\n",
       "  color: var(--sklearn-color-background);\n",
       "  text-decoration: none;\n",
       "}\n",
       "\n",
       "#sk-container-id-2 a.estimator_doc_link.fitted:hover {\n",
       "  /* fitted */\n",
       "  background-color: var(--sklearn-color-fitted-level-3);\n",
       "}\n",
       "</style><div id=\"sk-container-id-2\" class=\"sk-top-container\"><div class=\"sk-text-repr-fallback\"><pre>LinearRegression()</pre><b>In a Jupyter environment, please rerun this cell to show the HTML representation or trust the notebook. <br />On GitHub, the HTML representation is unable to render, please try loading this page with nbviewer.org.</b></div><div class=\"sk-container\" hidden><div class=\"sk-item\"><div class=\"sk-estimator fitted sk-toggleable\"><input class=\"sk-toggleable__control sk-hidden--visually\" id=\"sk-estimator-id-2\" type=\"checkbox\" checked><label for=\"sk-estimator-id-2\" class=\"sk-toggleable__label fitted sk-toggleable__label-arrow fitted\">&nbsp;&nbsp;LinearRegression<a class=\"sk-estimator-doc-link fitted\" rel=\"noreferrer\" target=\"_blank\" href=\"https://scikit-learn.org/1.5/modules/generated/sklearn.linear_model.LinearRegression.html\">?<span>Documentation for LinearRegression</span></a><span class=\"sk-estimator-doc-link fitted\">i<span>Fitted</span></span></label><div class=\"sk-toggleable__content fitted\"><pre>LinearRegression()</pre></div> </div></div></div></div>"
      ],
      "text/plain": [
       "LinearRegression()"
      ]
     },
     "execution_count": 69,
     "metadata": {},
     "output_type": "execute_result"
    }
   ],
   "source": [
    "from sklearn.linear_model import LinearRegression\n",
    "lr_model=LinearRegression()\n",
    "lr_model.fit(X_train,y_train)"
   ]
  },
  {
   "cell_type": "code",
   "execution_count": 71,
   "id": "f6c29807-9fa2-4f12-96a3-5bb540b8c161",
   "metadata": {},
   "outputs": [],
   "source": [
    "y_train_pred=lr_model.predict(X_train)\n",
    "from sklearn.metrics import mean_squared_error,mean_absolute_error,r2_score"
   ]
  },
  {
   "cell_type": "code",
   "execution_count": 73,
   "id": "b61efddb-90b2-416a-a84e-aa8c10aa8e6f",
   "metadata": {},
   "outputs": [
    {
     "name": "stdout",
     "output_type": "stream",
     "text": [
      "1149723462.5474803\n",
      "33907.572348186186\n",
      "17353.66264375718\n",
      "0.7130762024752908\n"
     ]
    }
   ],
   "source": [
    "mse_t=mean_squared_error(y_train_pred,y_train)\n",
    "rmse_t=mse_t**0.5\n",
    "mae_t=mean_absolute_error(y_train_pred,y_train)\n",
    "r2_train=r2_score(y_train,y_train_pred)\n",
    "print(mse_t)\n",
    "print(rmse_t)\n",
    "print(mae_t)\n",
    "print(r2_train)"
   ]
  },
  {
   "cell_type": "code",
   "execution_count": 39,
   "id": "414f895b-d15f-478e-ac7b-e23615e769aa",
   "metadata": {},
   "outputs": [],
   "source": [
    "y_test_pred=lr_model.predict(X_test)"
   ]
  },
  {
   "cell_type": "code",
   "execution_count": 75,
   "id": "d8001c76-9bee-492e-bc6e-fdf2a769e925",
   "metadata": {},
   "outputs": [
    {
     "name": "stdout",
     "output_type": "stream",
     "text": [
      "1611808468.604002\n",
      "40147.33451431118\n",
      "17717.575579944114\n",
      "0.5015352671441647\n"
     ]
    }
   ],
   "source": [
    "mse_test=mean_squared_error(y_test_pred,y_test)\n",
    "rmse_test=mse_test**0.5\n",
    "mae_test=mean_absolute_error(y_test_pred,y_test)\n",
    "r2_test=r2_score(y_test,y_test_pred)\n",
    "print(mse_test)\n",
    "print(rmse_test)\n",
    "print(mae_test)\n",
    "print(r2_test)"
   ]
  },
  {
   "cell_type": "code",
   "execution_count": 81,
   "id": "3902ef81-bb50-40dc-bbf6-6f41da02b7d0",
   "metadata": {},
   "outputs": [],
   "source": [
    "#assumptions of linear regresion\n",
    "import numpy as np\n",
    "import statsmodels.api as sm\n",
    "import seaborn as sns\n",
    "import matplotlib.pyplot as plt\n",
    "from statsmodels.stats.stattools import durbin_watson as dw\n",
    "from statsmodels.stats.diagnostic import het_breuschpagan as hb\n",
    "from scipy.stats import shapiro, probplot\n",
    "\n",
    "\n",
    "def test_linear_regression_assumptions(X, y, X_df):\n",
    "    \"\"\"Test the key assumptions of linear regression: Liniarity, Independence, Homoscedasticity, Normality of residuals and No Multicollinearity\n",
    "    \n",
    "    Parameters:\n",
    "    x (Dataframe): Independent variables\n",
    "    y (Series): Dependent variables\n",
    "    \n",
    "    Returns:\n",
    "    None\n",
    "    \"\"\"\n",
    "    \n",
    "    #Add constant to x for intercept\n",
    "    X=sm.add_constant(X)\n",
    "\n",
    "    #fit OLS model\n",
    "    ols_model =sm.OLS(y,X).fit()\n",
    "    residuals =ols_model.resid\n",
    "    predicted_values = ols_model.fittedvalues\n",
    "\n",
    "    #Linearity\n",
    "    print(\"1. Linearity:\\n\")\n",
    "    plt.scatter(predicted_values, residuals, alpha=0.7, edgecolors='k')\n",
    "    plt.axhline(y=0, color='red', linestyle='--')\n",
    "    plt.xlabel(\"Predicted Values\")\n",
    "    plt.ylabel(\"Residuals\")\n",
    "    plt.title(\"Residuals vs Predicted Values\")\n",
    "    plt.show()\n",
    "    print(\"Check if the residuals are randomly scattered around 0. Non-random patterns indicate non-Linearity\")\n",
    "\n",
    "    # No Autocorrelation: independence of Errors\n",
    "    print(\"1. Independence of Errors(Durbin Watson Test):\\n\")\n",
    "    dw_stat= dw(residuals)\n",
    "    print(f\"Durbin Watson Statistics:{dw_stat}\")\n",
    "    if 1.5 <= dw_stat >= 2.5:\n",
    "        print(\"Residual appears to be independent(No autocorrelation).\\n\")\n",
    "    else:\n",
    "        (\"Residuals show autocorrelation. consider adding lag variables or using GLS.\\n\")\n",
    "\n",
    "    #Homoscedasticity\n",
    "    print(\"3. Homoscedasticity(Breusch-Pegan Test):\\n\")\n",
    "    bp_test = hb(residuals,X)\n",
    "    print(f\"Lagrange Multiplier Statistics: {bp_test[0]}\")\n",
    "    print(f\"p-value: {bp_test}\")\n",
    "    if bp_test[1]>0.05:\n",
    "        print(\"Residuals have constant variance(Homoscedasticity).\\n\")\n",
    "    else:\n",
    "        print(\"Residuals do not have constant variiance(heteroscedasticity). consider GLS or transfromation.\\n\")\n",
    "\n",
    "    #Normality of Error\n",
    "    print(\"4. Normality of Errors\\n\")\n",
    "    sns.histplot(residuals, kde= True, bins=20, color='blue')\n",
    "    plt.title(\"Histogram of Residuals\")\n",
    "    plt.xlabel(\"Residuals\")\n",
    "    plt.ylabel(\"Frequency\")\n",
    "    plt.show()\n",
    "\n",
    "    probplot(residuals, dist=\"norm\", plot=plt)\n",
    "    plt.title(\"Q-Q Plot of Residuals\")\n",
    "    plt.show()\n",
    "\n",
    "\n",
    "    shapiro_test = shapiro(residuals)\n",
    "    print(f\"Shapiro-Wilk Test p-value: {shapiro_test.pvalue}\")\n",
    "    if shapiro_test.pvalue > 0.05:\n",
    "        print (\"Residuals are normally distributed. \\n\")\n",
    "    else:\n",
    "        print (\"Residuals are not normally distributed. Consider transformations or robust regression.\\n\")\n",
    "\n",
    "    #Multicollinearity\n",
    "    print(\"5. Multicollinearity (Variance Inflation Factor):\\n\")\n",
    "    from statsmodels.stats.outliers_influence import variance_inflation_factor\n",
    "    vif_data = pd.DataFrame()\n",
    "    vif_data[\"Feature\"] = X_df.columns\n",
    "    vif_data[\"VIF\"] = [variance_inflation_factor(X_df.values, i) for i in range(X_df.shape[1])]\n",
    "    print (vif_data)\n",
    "    if vif_data[\"VIF\"].max() > 10:\n",
    "        print(\"High multicollinearity detected. Consider removing or combining highly correlated variables. \\n\")\n",
    "    else:\n",
    "        print(\"No significant multicollinearity detected.\\n\")"
   ]
  },
  {
   "cell_type": "code",
   "execution_count": 83,
   "id": "d9acbb8e-b5f1-454f-865f-bdbf945e77f9",
   "metadata": {},
   "outputs": [
    {
     "name": "stdout",
     "output_type": "stream",
     "text": [
      "1. Linearity:\n",
      "\n"
     ]
    },
    {
     "data": {
      "image/png": "[encoded data removed]",
      "text/plain": [
       "<Figure size 640x480 with 1 Axes>"
      ]
     },
     "metadata": {},
     "output_type": "display_data"
    },
    {
     "name": "stdout",
     "output_type": "stream",
     "text": [
      "Check if the residuals are randomly scattered around 0. Non-random patterns indicate non-Linearity\n",
      "1. Independence of Errors(Durbin Watson Test):\n",
      "\n",
      "Durbin Watson Statistics:1.9873988036343446\n",
      "3. Homoscedasticity(Breusch-Pegan Test):\n",
      "\n",
      "Lagrange Multiplier Statistics: 109.19171338639214\n",
      "p-value: (109.19171338639214, 0.0011343254522661619, 1.6579829386032252, 0.0006436058428129499)\n",
      "Residuals do not have constant variiance(heteroscedasticity). consider GLS or transfromation.\n",
      "\n",
      "4. Normality of Errors\n",
      "\n"
     ]
    },
    {
     "data": {
      "image/png": "[encoded data removed]",
      "text/plain": [
       "<Figure size 640x480 with 1 Axes>"
      ]
     },
     "metadata": {},
     "output_type": "display_data"
    },
    {
     "data": {
      "image/png": "[encoded data removed]",
      "text/plain": [
       "<Figure size 640x480 with 1 Axes>"
      ]
     },
     "metadata": {},
     "output_type": "display_data"
    },
    {
     "name": "stderr",
     "output_type": "stream",
     "text": [
      "C:\\Users\\Sarthak\\anaconda3\\Lib\\site-packages\\scipy\\stats\\_axis_nan_policy.py:531: UserWarning: scipy.stats.shapiro: For N > 5000, computed p-value may not be accurate. Current N is 19700.\n",
      "  res = hypotest_fun_out(*samples, **kwds)\n"
     ]
    },
    {
     "name": "stdout",
     "output_type": "stream",
     "text": [
      "Shapiro-Wilk Test p-value: 1.9527774410015242e-110\n",
      "Residuals are not normally distributed. Consider transformations or robust regression.\n",
      "\n",
      "5. Multicollinearity (Variance Inflation Factor):\n",
      "\n"
     ]
    },
    {
     "name": "stderr",
     "output_type": "stream",
     "text": [
      "C:\\Users\\Sarthak\\anaconda3\\Lib\\site-packages\\statsmodels\\stats\\outliers_influence.py:197: RuntimeWarning: divide by zero encountered in scalar divide\n",
      "  vif = 1. / (1. - r_squared_i)\n"
     ]
    },
    {
     "name": "stdout",
     "output_type": "stream",
     "text": [
      "             Feature       VIF\n",
      "0   miles_per_gallon  1.636245\n",
      "1    premium_version  1.229068\n",
      "2     (Convertible,)       inf\n",
      "3           (Coupe,)       inf\n",
      "4       (Hatchback,)       inf\n",
      "..               ...       ...\n",
      "63          (Tesla,)       inf\n",
      "64         (Toyota,)       inf\n",
      "65     (Volkswagen,)       inf\n",
      "66          (Volvo,)       inf\n",
      "67          (smart,)       inf\n",
      "\n",
      "[68 rows x 2 columns]\n",
      "High multicollinearity detected. Consider removing or combining highly correlated variables. \n",
      "\n"
     ]
    }
   ],
   "source": [
    "test_linear_regression_assumptions(X_train,y_train,X_df)"
   ]
  },
  {
   "cell_type": "markdown",
   "id": "19e132bf-1b23-4ebe-91d4-075185be78a1",
   "metadata": {},
   "source": [
    "## Polynomial Regression"
   ]
  },
  {
   "cell_type": "code",
   "execution_count": 86,
   "id": "1a392f9a-4138-48ae-91bb-3f5a4be6a70a",
   "metadata": {},
   "outputs": [],
   "source": [
    "from sklearn.preprocessing import PolynomialFeatures"
   ]
  },
  {
   "cell_type": "code",
   "execution_count": 90,
   "id": "60762c17-d9cc-4e5c-ad67-a1c199dea174",
   "metadata": {},
   "outputs": [
    {
     "name": "stdout",
     "output_type": "stream",
     "text": [
      "954343266.9533178\n",
      "30892.446762166925\n",
      "15137.970313813208\n",
      "0.6873896023927367\n"
     ]
    }
   ],
   "source": [
    "poly=PolynomialFeatures(degree=2)\n",
    "X_poly_train=poly.fit_transform(X_train)\n",
    "X_poly_test=poly.transform(X_test)\n",
    "X_train[0]\n",
    "X_poly_train[0]\n",
    "poly_model = LinearRegression()\n",
    "poly_model.fit(X_poly_train, y_train)\n",
    "y_poly_pred = poly_model.predict(X_poly_train)\n",
    "y_poly_pred\n",
    "\n",
    "from sklearn.metrics import mean_squared_error, mean_absolute_error, r2_score\n",
    "\n",
    "mse_poly_train = mean_squared_error(y_poly_pred, y_train)\n",
    "rmse_poly_train = mean_squared_error(y_poly_pred , y_train) ** 0.5\n",
    "mae_poly_train = mean_absolute_error(y_poly_pred, y_train)\n",
    "r2_poly_train = r2_score(y_poly_pred, y_train)\n",
    "\n",
    "print(mse_poly_train)\n",
    "print(rmse_poly_train)\n",
    "print(mae_poly_train)\n",
    "print(r2_poly_train)"
   ]
  },
  {
   "cell_type": "code",
   "execution_count": 96,
   "id": "7d4adc74-ff1d-4aad-8a53-9205eed68c22",
   "metadata": {},
   "outputs": [
    {
     "name": "stdout",
     "output_type": "stream",
     "text": [
      "4.1829954517618406e+20\n",
      "20452372605.059395\n",
      "684615021.6276034\n",
      "-2.1330074236436403e-05\n"
     ]
    }
   ],
   "source": [
    "y_poly_pred_test = poly_model.predict(X_poly_test)\n",
    "mse_poly_test = mean_squared_error(y_poly_pred_test, y_test)\n",
    "rmse_poly_test = mean_squared_error(y_poly_pred_test , y_test)**0.5\n",
    "mae_poly_test = mean_absolute_error(y_poly_pred_test, y_test)\n",
    "r2_poly_test = r2_score(y_poly_pred_test,y_test)\n",
    "\n",
    "print(mse_poly_test)\n",
    "print(rmse_poly_test)\n",
    "print(mae_poly_test)\n",
    "print(r2_poly_test)"
   ]
  },
  {
   "cell_type": "code",
   "execution_count": 41,
   "id": "c7594dc7-19ca-43f6-9498-566087ca482c",
   "metadata": {},
   "outputs": [],
   "source": [
    "#assumptions\n",
    "    #multicollinearity:independent columns should not have linear relation with another independent columns\n",
    "    #linearity:every independent column must have linear relation with dependent column\n",
    "    \n",
    "    # residuals:\n",
    "    # normality of resiudals: errors must be normally distributed\n",
    "    # no autocorrelation:there is no positive or negative relation between errrors\n",
    "    #homoscedasticity:error should be constant that means errors should be similar\n",
    "    "
   ]
  },
  {
   "cell_type": "markdown",
   "id": "569e89a0-4fb2-4436-9bdc-4ae3b719dc1c",
   "metadata": {},
   "source": [
    "## Lasso"
   ]
  },
  {
   "cell_type": "code",
   "execution_count": 99,
   "id": "f11b0c18-3c8c-4920-99a5-a1c4ad7e6681",
   "metadata": {},
   "outputs": [
    {
     "name": "stdout",
     "output_type": "stream",
     "text": [
      "1149774605.592431\n",
      "33908.32649353889\n",
      "17354.59957406789\n",
      "0.7130634392699182\n"
     ]
    },
    {
     "name": "stderr",
     "output_type": "stream",
     "text": [
      "C:\\Users\\Sarthak\\anaconda3\\Lib\\site-packages\\sklearn\\linear_model\\_coordinate_descent.py:697: ConvergenceWarning: Objective did not converge. You might want to increase the number of iterations, check the scale of the features or consider increasing regularisation. Duality gap: 8.167e+11, tolerance: 7.894e+09\n",
      "  model = cd_fast.enet_coordinate_descent(\n"
     ]
    }
   ],
   "source": [
    "#lasso\n",
    "from sklearn.linear_model import Lasso,Ridge,ElasticNet\n",
    "\n",
    "l1=Lasso(alpha=1.0)\n",
    "l1.fit(X_train,y_train)\n",
    "y_pred_train_l1=l1.predict(X_train)\n",
    "\n",
    "mse_l1_train=mean_squared_error(y_pred_train_l1,y_train)\n",
    "rmse_l1_train=mean_squared_error(y_pred_train_l1,y_train)**0.5\n",
    "mae_l1_train=mean_absolute_error(y_train,y_pred_train_l1)\n",
    "r2_l1_train=r2_score(y_train,y_pred_train_l1)\n",
    "print(mse_l1_train)\n",
    "print(rmse_l1_train)\n",
    "print(mae_l1_train)\n",
    "print(r2_l1_train)"
   ]
  },
  {
   "cell_type": "code",
   "execution_count": 107,
   "id": "af85d9d2-fc68-46af-9ce6-dab81e606636",
   "metadata": {},
   "outputs": [
    {
     "name": "stdout",
     "output_type": "stream",
     "text": [
      "1611689576.8665545\n",
      "40145.853794215844\n",
      "17713.69088444999\n",
      "0.5015720353702289\n"
     ]
    }
   ],
   "source": [
    "y_pred_test_l1=l1.predict(X_test)\n",
    "\n",
    "mse_l1_test=mean_squared_error(y_pred_test_l1,y_test)\n",
    "rmse_l1_test=mean_squared_error(y_pred_test_l1,y_test)**0.5\n",
    "mae_l1_test=mean_absolute_error(y_test,y_pred_test_l1)\n",
    "r2_l1_test=r2_score(y_test,y_pred_test_l1)\n",
    "print(mse_l1_test)\n",
    "print(rmse_l1_test)\n",
    "print(mae_l1_test)\n",
    "print(r2_l1_test)"
   ]
  },
  {
   "cell_type": "code",
   "execution_count": 109,
   "id": "a189bfb2-b0fb-437c-9c9a-360bb09f89d2",
   "metadata": {},
   "outputs": [
    {
     "name": "stdout",
     "output_type": "stream",
     "text": [
      "1190412662.028231\n",
      "34502.357340162\n",
      "17468.650095132853\n",
      "0.7029218479599979\n"
     ]
    }
   ],
   "source": [
    "l2=Ridge(alpha=1.0)\n",
    "l2.fit(X_train,y_train)\n",
    "y_pred_train_l1=l2.predict(X_train)\n",
    "\n",
    "mse_l1_train=mean_squared_error(y_pred_train_l1,y_train)\n",
    "rmse_l1_train=mean_squared_error(y_pred_train_l1,y_train)**0.5\n",
    "mae_l1_train=mean_absolute_error(y_pred_train_l1,y_train)\n",
    "r2_l1_train=r2_score(y_train,y_pred_train_l1)\n",
    "print(mse_l1_train)\n",
    "print(rmse_l1_train)\n",
    "print(mae_l1_train)\n",
    "print(r2_l1_train)\n"
   ]
  },
  {
   "cell_type": "code",
   "execution_count": 111,
   "id": "ff556583-88c6-4895-b6e6-ae735fa93e15",
   "metadata": {},
   "outputs": [
    {
     "name": "stdout",
     "output_type": "stream",
     "text": [
      "3547647345.254042\n",
      "59562.130126902295\n",
      "27780.031768929297\n",
      "0.11465279979297105\n"
     ]
    }
   ],
   "source": [
    "l2=ElasticNet(alpha=1.0,l1_ratio=0.6)\n",
    "l2.fit(X_train,y_train)\n",
    "y_pred_train_l1=l2.predict(X_train)\n",
    "\n",
    "mse_l1_train=mean_squared_error(y_pred_train_l1,y_train)\n",
    "rmse_l1_train=mean_squared_error(y_pred_train_l1,y_train)**0.5\n",
    "mae_l1_train=mean_absolute_error(y_pred_train_l1,y_train)\n",
    "r2_l1_train=r2_score(y_train,y_pred_train_l1)\n",
    "print(mse_l1_train)\n",
    "print(rmse_l1_train)\n",
    "print(mae_l1_train)\n",
    "print(r2_l1_train)"
   ]
  },
  {
   "cell_type": "code",
   "execution_count": 113,
   "id": "a994f1e6-6deb-4fbb-a666-5cf1ae79d414",
   "metadata": {},
   "outputs": [
    {
     "name": "stdout",
     "output_type": "stream",
     "text": [
      "545473715.0485164\n",
      "23355.37871772831\n",
      "12091.413003101707\n",
      "0.8638721441546924\n"
     ]
    }
   ],
   "source": [
    "#knn regressor\n",
    "from sklearn.neighbors import KNeighborsRegressor as knr\n",
    "knn_r=knr(n_neighbors=5)\n",
    "knn_r.fit(X_train,y_train)\n",
    "y_train_knn=knn_r.predict(X_train)\n",
    "\n",
    "mse_knn_train=mean_squared_error(y_train_knn,y_train)\n",
    "rmse_knn_train=mean_squared_error(y_train_knn,y_train)**0.5\n",
    "mae_knn_train=mean_absolute_error(y_train_knn,y_train)\n",
    "r2_knn_train=r2_score(y_train,y_train_knn)\n",
    "print(mse_knn_train)\n",
    "print(rmse_knn_train)\n",
    "print(mae_knn_train)\n",
    "print(r2_knn_train)\n"
   ]
  },
  {
   "cell_type": "code",
   "execution_count": 130,
   "id": "cdabedc7-6d81-4986-a4bb-e9f39500ded5",
   "metadata": {},
   "outputs": [],
   "source": [
    "#svr\n",
    "from sklearn.svm import SVR\n",
    "svr=SVR()\n",
    "svr.fit(X_train,y_train)\n",
    "y_train_svr=svr.predict(X_train)\n",
    "\n"
   ]
  },
  {
   "cell_type": "code",
   "execution_count": 132,
   "id": "d6dac934-c831-4257-9f40-60e15e94f338",
   "metadata": {},
   "outputs": [
    {
     "name": "stdout",
     "output_type": "stream",
     "text": [
      "4254248229.202257\n",
      "65224.598344506936\n",
      "28309.004315322618\n",
      "-0.06168578558087101\n"
     ]
    }
   ],
   "source": [
    "mse_svr_train=mean_squared_error(y_train_svr,y_train)\n",
    "rmse_svr_train=mean_squared_error(y_train_svr,y_train)**0.5\n",
    "mae_svr_train=mean_absolute_error(y_train_svr,y_train)\n",
    "r2_svr_train=r2_score(y_train,y_train_svr)\n",
    "print(mse_svr_train)\n",
    "print(rmse_svr_train)\n",
    "print(mae_svr_train)\n",
    "print(r2_svr_train)"
   ]
  },
  {
   "cell_type": "code",
   "execution_count": 121,
   "id": "afd7a114-365b-467c-b0c6-2d4b5aa21c90",
   "metadata": {},
   "outputs": [
    {
     "name": "stdout",
     "output_type": "stream",
     "text": [
      "486241828.71371216\n",
      "22050.891789533416\n",
      "12541.961271248418\n",
      "0.8786539924124268\n"
     ]
    }
   ],
   "source": [
    "#decision tree regressor\n",
    "from sklearn.tree import DecisionTreeRegressor \n",
    "dtree=DecisionTreeRegressor(max_depth=20,random_state=0)\n",
    "dtree.fit(X_train,y_train)\n",
    "y_train_dtree=dtree.predict(X_train)\n",
    "\n",
    "mse_dtree_train=mean_squared_error(y_train_dtree,y_train)\n",
    "rmse_dtree_train=mean_squared_error(y_train_dtree,y_train)**0.5\n",
    "mae_dtree_train=mean_absolute_error(y_train_dtree,y_train)\n",
    "r2_dtree_train=r2_score(y_train,y_train_dtree)\n",
    "print(mse_dtree_train)\n",
    "print(rmse_dtree_train)\n",
    "print(mae_dtree_train)\n",
    "print(r2_dtree_train)"
   ]
  },
  {
   "cell_type": "code",
   "execution_count": 128,
   "id": "3fd92a57-e181-4fa9-b5ae-fbbfb669f8a1",
   "metadata": {},
   "outputs": [
    {
     "name": "stdout",
     "output_type": "stream",
     "text": [
      "538568630.2553366\n",
      "23207.081467848056\n",
      "12494.297969655996\n",
      "0.8655953699699674\n"
     ]
    }
   ],
   "source": [
    "#random forest regressor\n",
    "from sklearn.ensemble import RandomForestRegressor\n",
    "forest=RandomForestRegressor(max_depth=20,n_estimators=100,random_state=0)\n",
    "forest.fit(X_train,y_train)\n",
    "y_train_forest=forest.predict(X_train)\n",
    "\n",
    "mse_forest_train=mean_squared_error(y_train_forest,y_train)\n",
    "rmse_forest_train=mean_squared_error(y_train_forest,y_train)**0.5\n",
    "mae_forest_train=mean_absolute_error(y_train_forest,y_train)\n",
    "r2_forest_train=r2_score(y_train,y_train_forest)\n",
    "print(mse_forest_train)\n",
    "print(rmse_forest_train)\n",
    "print(mae_forest_train)\n",
    "print(r2_forest_train)"
   ]
  },
  {
   "cell_type": "code",
   "execution_count": null,
   "id": "0269a076-76cd-4c5b-9c3a-7b3c8c930354",
   "metadata": {},
   "outputs": [],
   "source": [
    "#random forest regressor\n",
    "from sklearn.ensemble import RandomForestRegressor\n",
    "forest=RandomForestRegressor(max_depth=20,n_estimators=100,random_state=0)\n",
    "forest.fit(X_train,y_train)\n",
    "y_train_forest=forest.predict(X_train)\n",
    "\n",
    "mse_forest_train=mean_squared_error(y_train_forest,y_train)\n",
    "rmse_forest_train=mean_squared_error(y_train_forest,y_train)**0.5\n",
    "mae_forest_train=mean_absolute_error(y_train_forest,y_train)\n",
    "r2_forest_train=r2_score(y_train,y_train_forest)\n",
    "print(mse_forest_train)\n",
    "print(rmse_forest_train)\n",
    "print(mae_forest_train)\n",
    "print(r2_forest_train)"
   ]
  },
  {
   "cell_type": "code",
   "execution_count": null,
   "id": "0d19da38-d816-4dbf-b420-583b91a6441e",
   "metadata": {},
   "outputs": [],
   "source": []
  },
  {
   "cell_type": "code",
   "execution_count": null,
   "id": "4d3999bd-d267-4a82-ab1e-182fa1bf65a8",
   "metadata": {},
   "outputs": [],
   "source": []
  },
  {
   "cell_type": "code",
   "execution_count": null,
   "id": "df9b2204-89f2-4a4a-a706-a5095e5f260a",
   "metadata": {},
   "outputs": [],
   "source": []
  },
  {
   "cell_type": "code",
   "execution_count": null,
   "id": "4f173f43-7e32-4499-ab99-86adb3a7eaf8",
   "metadata": {},
   "outputs": [],
   "source": []
  },
  {
   "cell_type": "code",
   "execution_count": null,
   "id": "d26d4d83-953a-4ed1-a037-72cbdca4bf64",
   "metadata": {},
   "outputs": [],
   "source": []
  },
  {
   "cell_type": "code",
   "execution_count": null,
   "id": "091af3a7-e5a8-4b3e-8f4f-cc5f5ba5e5f9",
   "metadata": {},
   "outputs": [],
   "source": []
  },
  {
   "cell_type": "code",
   "execution_count": null,
   "id": "559f666a-82e9-459b-9d59-78dfed434165",
   "metadata": {},
   "outputs": [],
   "source": []
  },
  {
   "cell_type": "code",
   "execution_count": null,
   "id": "142861ac-e89f-4b34-b67c-5c8e132652e0",
   "metadata": {},
   "outputs": [],
   "source": []
  },
  {
   "cell_type": "code",
   "execution_count": null,
   "id": "fbde9bdb-7118-4762-aa5e-e5f1517e385c",
   "metadata": {},
   "outputs": [],
   "source": []
  },
  {
   "cell_type": "code",
   "execution_count": null,
   "id": "ac741df5-5c17-4419-8cd9-f0725426358b",
   "metadata": {},
   "outputs": [],
   "source": []
  },
  {
   "cell_type": "code",
   "execution_count": null,
   "id": "8e0feae7-7605-44ee-8ecb-2a24a7ace3a8",
   "metadata": {},
   "outputs": [],
   "source": []
  },
  {
   "cell_type": "code",
   "execution_count": null,
   "id": "db4d141c-7d9c-4196-83f0-ff38fc3eb3f4",
   "metadata": {},
   "outputs": [],
   "source": []
  },
  {
   "cell_type": "code",
   "execution_count": null,
   "id": "16dc4039-de3d-417c-b36b-8915e74e70f1",
   "metadata": {},
   "outputs": [],
   "source": []
  },
  {
   "cell_type": "code",
   "execution_count": 42,
   "id": "412a670e-e0df-4bd4-b905-f3bf8b10bd0f",
   "metadata": {},
   "outputs": [
    {
     "ename": "AttributeError",
     "evalue": "'numpy.ndarray' object has no attribute 'columns'",
     "output_type": "error",
     "traceback": [
      "\u001b[1;31m---------------------------------------------------------------------------\u001b[0m",
      "\u001b[1;31mAttributeError\u001b[0m                            Traceback (most recent call last)",
      "Cell \u001b[1;32mIn[42], line 1\u001b[0m\n\u001b[1;32m----> 1\u001b[0m \u001b[38;5;28;01mfor\u001b[39;00m i \u001b[38;5;129;01min\u001b[39;00m X\u001b[38;5;241m.\u001b[39mcolumns:\n\u001b[0;32m      2\u001b[0m     plt\u001b[38;5;241m.\u001b[39mscatter(X[i],y)\n\u001b[0;32m      3\u001b[0m     plt\u001b[38;5;241m.\u001b[39mxlabel(i)\n",
      "\u001b[1;31mAttributeError\u001b[0m: 'numpy.ndarray' object has no attribute 'columns'"
     ]
    }
   ],
   "source": [
    "for i in X.columns:\n",
    "    plt.scatter(X[i],y)\n",
    "    plt.xlabel(i)\n",
    "    plt.ylabel(\"Price\")\n",
    "    plt.title(i)"
   ]
  },
  {
   "cell_type": "code",
   "execution_count": 25,
   "id": "49ec5e43-9bae-4bfd-95be-a8f50fd32f14",
   "metadata": {},
   "outputs": [],
   "source": [
    "11**2\n",
    "import math"
   ]
  },
  {
   "cell_type": "code",
   "execution_count": 27,
   "id": "9a94e9e0-223b-4c9a-abbe-1253e846371d",
   "metadata": {},
   "outputs": [
    {
     "data": {
      "text/plain": [
       "4.019950248448356"
      ]
     },
     "execution_count": 27,
     "metadata": {},
     "output_type": "execute_result"
    }
   ],
   "source": [
    "math.sqrt((5-9)**2 + (1-1.4)**2)"
   ]
  },
  {
   "cell_type": "code",
   "execution_count": 7,
   "id": "37c85b2a-3b99-4b47-a0b2-84269e0ab8e8",
   "metadata": {},
   "outputs": [
    {
     "data": {
      "text/plain": [
       "4.0"
      ]
     },
     "execution_count": 7,
     "metadata": {},
     "output_type": "execute_result"
    }
   ],
   "source": [
    "math.sqrt((7-9)**2 + (1.4-1.4)**2)"
   ]
  },
  {
   "cell_type": "code",
   "execution_count": 9,
   "id": "96d64616-257e-4c0f-bdbc-b68bcbd39c38",
   "metadata": {},
   "outputs": [
    {
     "data": {
      "text/plain": [
       "9.040000000000001"
      ]
     },
     "execution_count": 9,
     "metadata": {},
     "output_type": "execute_result"
    }
   ],
   "source": [
    "(12-9)**2 + (1.6-1.4)**2"
   ]
  },
  {
   "cell_type": "code",
   "execution_count": 11,
   "id": "9f1d2f17-ab6b-437a-88cf-1d4577702d0b",
   "metadata": {},
   "outputs": [
    {
     "data": {
      "text/plain": [
       "9.36"
      ]
     },
     "execution_count": 11,
     "metadata": {},
     "output_type": "execute_result"
    }
   ],
   "source": [
    "(6-9)**2 + (0.8-1.4)**2"
   ]
  },
  {
   "cell_type": "code",
   "execution_count": 13,
   "id": "76bd26cc-0563-41b7-bb5c-be45c32e4652",
   "metadata": {},
   "outputs": [
    {
     "data": {
      "text/plain": [
       "1.16"
      ]
     },
     "execution_count": 13,
     "metadata": {},
     "output_type": "execute_result"
    }
   ],
   "source": [
    "(8-9)**2 + (1-1.4)**2"
   ]
  },
  {
   "cell_type": "code",
   "execution_count": 15,
   "id": "6746348c-42c0-456a-8356-34352173edf1",
   "metadata": {},
   "outputs": [
    {
     "data": {
      "text/plain": [
       "36.09"
      ]
     },
     "execution_count": 15,
     "metadata": {},
     "output_type": "execute_result"
    }
   ],
   "source": [
    "(15-9)**2 + (1.7-1.4)**2"
   ]
  },
  {
   "cell_type": "code",
   "execution_count": 17,
   "id": "b8c1beef-86a7-48fc-a1ab-9cd807321521",
   "metadata": {},
   "outputs": [
    {
     "data": {
      "text/plain": [
       "1.01"
      ]
     },
     "execution_count": 17,
     "metadata": {},
     "output_type": "execute_result"
    }
   ],
   "source": [
    "(10-9)**2 + (1.3-1.4)**2"
   ]
  },
  {
   "cell_type": "code",
   "execution_count": 19,
   "id": "4906c074-3c56-4035-8aa7-05bfc3f07001",
   "metadata": {},
   "outputs": [
    {
     "data": {
      "text/plain": [
       "4.04"
      ]
     },
     "execution_count": 19,
     "metadata": {},
     "output_type": "execute_result"
    }
   ],
   "source": [
    "(11-9)**2 + (1.2-1.4)**2"
   ]
  },
  {
   "cell_type": "code",
   "execution_count": 21,
   "id": "392e100d-aadd-4070-b4b9-eecde597d027",
   "metadata": {},
   "outputs": [
    {
     "data": {
      "text/plain": [
       "1.0"
      ]
     },
     "execution_count": 21,
     "metadata": {},
     "output_type": "execute_result"
    }
   ],
   "source": [
    "(10-9)**2 + (1.4-1.4)**2"
   ]
  },
  {
   "cell_type": "code",
   "execution_count": 23,
   "id": "a3e113b7-403a-4bce-8bd8-1cadb7c23b5e",
   "metadata": {},
   "outputs": [
    {
     "data": {
      "text/plain": [
       "1.01"
      ]
     },
     "execution_count": 23,
     "metadata": {},
     "output_type": "execute_result"
    }
   ],
   "source": [
    "(8-9)**2 + (1.3-1.4)**2"
   ]
  },
  {
   "cell_type": "markdown",
   "id": "f3409ce1-9acc-40d5-a762-ee8376ae962d",
   "metadata": {},
   "source": [
    "![image.png](attachment:814bb1b2-9626-4630-9fb8-fe34ca3cf253.png)"
   ]
  },
  {
   "cell_type": "markdown",
   "id": "dd3bb4e4-4cc1-49b5-ac77-3ed1d7715f77",
   "metadata": {},
   "source": [
    "## KNN Algorithm\n"
   ]
  },
  {
   "cell_type": "code",
   "execution_count": null,
   "id": "6d8d9ce1-faa4-4019-93b4-59639240be3b",
   "metadata": {},
   "outputs": [],
   "source": []
  },
  {
   "cell_type": "code",
   "execution_count": null,
   "id": "e2dc71f7-c273-4b21-95fb-9a367cd148c5",
   "metadata": {},
   "outputs": [],
   "source": []
  },
  {
   "cell_type": "code",
   "execution_count": null,
   "id": "497a8251-79e5-4508-a734-5fc7b5517080",
   "metadata": {},
   "outputs": [],
   "source": []
  },
  {
   "cell_type": "code",
   "execution_count": null,
   "id": "c76be914-4a41-4821-ac69-f3c0c6c6b982",
   "metadata": {},
   "outputs": [],
   "source": []
  },
  {
   "cell_type": "code",
   "execution_count": null,
   "id": "4e5128a0-b7b5-477a-a6a9-02b70c5fd171",
   "metadata": {},
   "outputs": [],
   "source": []
  },
  {
   "cell_type": "code",
   "execution_count": null,
   "id": "833797fa-1bbf-4811-b052-eadbb54c318d",
   "metadata": {},
   "outputs": [],
   "source": []
  },
  {
   "cell_type": "code",
   "execution_count": null,
   "id": "e4b1a219-9e67-40d5-b1c6-fbfa0b8c9a51",
   "metadata": {},
   "outputs": [],
   "source": []
  }
 ],
 "metadata": {
  "kernelspec": {
   "display_name": "Python 3 (ipykernel)",
   "language": "python",
   "name": "python3"
  },
  "language_info": {
   "codemirror_mode": {
    "name": "ipython",
    "version": 3
   },
   "file_extension": ".py",
   "mimetype": "text/x-python",
   "name": "python",
   "nbconvert_exporter": "python",
   "pygments_lexer": "ipython3",
   "version": "3.12.7"
  }
 },
 "nbformat": 4,
 "nbformat_minor": 5
}
